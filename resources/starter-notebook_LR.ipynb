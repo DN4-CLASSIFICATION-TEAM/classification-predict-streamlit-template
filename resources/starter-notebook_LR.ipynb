{
 "cells": [
  {
   "cell_type": "markdown",
   "id": "6c7e849a",
   "metadata": {
    "ExecuteTime": {
     "end_time": "2021-06-11T09:24:53.643384Z",
     "start_time": "2021-06-11T09:24:53.622385Z"
    }
   },
   "source": [
    "# Classification Predict Student Solution\n",
    "\n",
    "© Explore Data Science Academy\n",
    "\n",
    "---\n",
    "### Honour Code\n",
    "\n",
    "I {**YOUR NAME, YOUR SURNAME**}, confirm - by submitting this document - that the solutions in this notebook are a result of my own work and that I abide by the [EDSA honour code](https://drive.google.com/file/d/1QDCjGZJ8-FmJE3bZdIQNwnJyQKPhHZBn/view?usp=sharing).\n",
    "\n",
    "\n",
    "### Predict Overview: EA - Twitter Sentiment Classification Challenge\n",
    "Many companies are built around lessening one’s environmental impact or carbon footprint. They offer products and services that are environmentally friendly and sustainable, in line with their values and ideals. They would like to determine how people perceive climate change and whether or not they believe it is a real threat. This would add to their market research efforts in gauging how their product/service may be received. Our task company is to:\n",
    "\n",
    "- 1. analyse the supplied data;\n",
    "- 2. identify potential errors in the data and clean the existing data set;\n",
    "- 3. determine if additional features can be added to enrich the data set;\n",
    "- 4. build a model that is capable of forecasting the three hourly demand shortfalls;\n",
    "- 5. evaluate the accuracy of the best machine learning model;\n",
    "- 6. determine what features were most important in the model’s prediction decision, and\n",
    "- 7. explain the inner working of the model to a non-technical audience.\n",
    "\n",
    "\n"
   ]
  },
  {
   "cell_type": "markdown",
   "id": "05600c92",
   "metadata": {},
   "source": [
    "<a id=\"cont\"></a>\n",
    "\n",
    "## Table of Contents\n",
    "\n",
    "<a href=#one>1. Importing Packages</a>\n",
    "\n",
    "<a href=#two>2. Loading Data</a>\n",
    "\n",
    "<a href=#three>3. Exploratory Data Analysis (EDA)</a>\n",
    "\n",
    "<a href=#four>4. Data Engineering</a>\n",
    "\n",
    "<a href=#five>5. Modeling</a>\n",
    "\n",
    "<a href=#six>6. Model Performance</a>\n",
    "\n",
    "<a href=#seven>7. Model Explanations</a>\n",
    "\n",
    "<a href=#eight>8. Unseen Data Predictions</a>"
   ]
  },
  {
   "cell_type": "markdown",
   "id": "997462e2",
   "metadata": {},
   "source": [
    " <a id=\"one\"></a>\n",
    "## 1. Importing Packages\n",
    "<a href=#cont>Back to Table of Contents</a>\n",
    "\n",
    "---\n",
    "    \n",
    "| ⚡ Description: Importing Packages ⚡ |\n",
    "| :--------------------------- |\n",
    "| In this section you are required to import, and briefly discuss, the libraries that will be used throughout your analysis and modelling. |\n",
    "\n",
    "---"
   ]
  },
  {
   "cell_type": "code",
   "execution_count": 1,
   "id": "e6f5431a",
   "metadata": {},
   "outputs": [
    {
     "name": "stderr",
     "output_type": "stream",
     "text": [
      "[nltk_data] Downloading package wordnet to\n",
      "[nltk_data]     C:\\Users\\Dell\\AppData\\Roaming\\nltk_data...\n",
      "[nltk_data]   Package wordnet is already up-to-date!\n",
      "[nltk_data] Downloading package stopwords to\n",
      "[nltk_data]     C:\\Users\\Dell\\AppData\\Roaming\\nltk_data...\n",
      "[nltk_data]   Package stopwords is already up-to-date!\n",
      "[nltk_data] Downloading package omw-1.4 to\n",
      "[nltk_data]     C:\\Users\\Dell\\AppData\\Roaming\\nltk_data...\n",
      "[nltk_data]   Package omw-1.4 is already up-to-date!\n"
     ]
    },
    {
     "data": {
      "text/plain": [
       "True"
      ]
     },
     "execution_count": 1,
     "metadata": {},
     "output_type": "execute_result"
    }
   ],
   "source": [
    "import numpy as np\n",
    "import pandas as pd\n",
    "import seaborn as sns\n",
    "import matplotlib.pyplot as plt\n",
    "\n",
    "# Packages for preprocessing\n",
    "import re\n",
    "import contractions\n",
    "import nltk\n",
    "from nltk.stem import SnowballStemmer, WordNetLemmatizer\n",
    "from nltk import word_tokenize\n",
    "from nltk.corpus import stopwords\n",
    "from nltk.probability import FreqDist\n",
    "from wordcloud import WordCloud\n",
    "\n",
    "# Splitting Data\n",
    "from sklearn.model_selection import train_test_split\n",
    "\n",
    "# Packages for hyperparameter optimisation\n",
    "from sklearn.model_selection import GridSearchCV\n",
    "from sklearn.model_selection import ParameterGrid\n",
    "\n",
    "# Vectorize\n",
    "from sklearn.feature_extraction.text import TfidfVectorizer\n",
    "from sklearn.feature_extraction.text import CountVectorizer\n",
    "\n",
    "# classification models\n",
    "from sklearn.svm import SVC\n",
    "from sklearn.svm import LinearSVC\n",
    "from sklearn.linear_model import LogisticRegression\n",
    "from sklearn.ensemble import RandomForestClassifier\n",
    "from sklearn.naive_bayes import MultinomialNB\n",
    "from sklearn.tree import DecisionTreeClassifier\n",
    "\n",
    "# Packages for evaluating model accuracy\n",
    "from sklearn.metrics import precision_score\n",
    "from sklearn.metrics import f1_score \n",
    "from sklearn.metrics import recall_score\n",
    "from sklearn.metrics import accuracy_score\n",
    "from sklearn.metrics import classification_report\n",
    "\n",
    "from sklearn.metrics import confusion_matrix\n",
    "from sklearn.metrics import roc_curve\n",
    "from sklearn.metrics import auc\n",
    "\n",
    "# Packages for saving models\n",
    "import pickle\n",
    "\n",
    "nltk.download('wordnet')\n",
    "nltk.download('stopwords')\n",
    "nltk.download('omw-1.4')"
   ]
  },
  {
   "cell_type": "markdown",
   "id": "f22a6718",
   "metadata": {},
   "source": [
    "<a id=\"two\"></a>\n",
    "## 2. Loading the Data\n",
    "<a class=\"anchor\" id=\"1.1\"></a>\n",
    "<a href=#cont>Back to Table of Contents</a>\n",
    "\n",
    "---\n",
    "    \n",
    "| ⚡ Description: Loading the data ⚡ |\n",
    "| :--------------------------- |\n",
    "| In this section you are required to load the data from the `df_train` file into a DataFrame. |\n",
    "\n",
    "---"
   ]
  },
  {
   "cell_type": "code",
   "execution_count": 2,
   "id": "fbbb6c18",
   "metadata": {
    "ExecuteTime": {
     "end_time": "2021-06-28T08:49:35.311495Z",
     "start_time": "2021-06-28T08:49:35.295494Z"
    }
   },
   "outputs": [],
   "source": [
    "# load the data\n",
    "df_train =pd.read_csv('https://raw.githubusercontent.com/DN4-CLASSIFICATION-TEAM/Data/main/train.csv',index_col=0)\n",
    "df_test =pd.read_csv('https://raw.githubusercontent.com/DN4-CLASSIFICATION-TEAM/Data/main/test_with_no_labels.csv',index_col=0)"
   ]
  },
  {
   "cell_type": "code",
   "execution_count": 3,
   "id": "d0f6d355",
   "metadata": {},
   "outputs": [],
   "source": [
    "df_train.reset_index(inplace=True)\n",
    "df_test.reset_index(inplace=True)"
   ]
  },
  {
   "cell_type": "code",
   "execution_count": 4,
   "id": "60c8b317",
   "metadata": {},
   "outputs": [],
   "source": [
    "DF_train = df_train.copy()\n",
    "DF_test = df_test.copy()"
   ]
  },
  {
   "cell_type": "markdown",
   "id": "81132ab3",
   "metadata": {},
   "source": [
    "<a id=\"three\"></a>\n",
    "## 3. Exploratory Data Analysis (EDA)\n",
    "<a class=\"anchor\" id=\"1.1\"></a>\n",
    "<a href=#cont>Back to Table of Contents</a>\n",
    "\n",
    "---\n",
    "    \n",
    "| ⚡ Description: Exploratory data analysis ⚡ |\n",
    "| :--------------------------- |\n",
    "| In this section, you are required to perform an in-depth analysis of all the variables in the DataFrame. |\n",
    "\n",
    "---\n"
   ]
  },
  {
   "cell_type": "markdown",
   "id": "c658706c",
   "metadata": {},
   "source": [
    "### 3.1 Previewing the Training and Test Data"
   ]
  },
  {
   "cell_type": "code",
   "execution_count": 5,
   "id": "7832652f",
   "metadata": {},
   "outputs": [
    {
     "data": {
      "text/html": [
       "<div>\n",
       "<style scoped>\n",
       "    .dataframe tbody tr th:only-of-type {\n",
       "        vertical-align: middle;\n",
       "    }\n",
       "\n",
       "    .dataframe tbody tr th {\n",
       "        vertical-align: top;\n",
       "    }\n",
       "\n",
       "    .dataframe thead th {\n",
       "        text-align: right;\n",
       "    }\n",
       "</style>\n",
       "<table border=\"1\" class=\"dataframe\">\n",
       "  <thead>\n",
       "    <tr style=\"text-align: right;\">\n",
       "      <th></th>\n",
       "      <th>sentiment</th>\n",
       "      <th>message</th>\n",
       "      <th>tweetid</th>\n",
       "    </tr>\n",
       "  </thead>\n",
       "  <tbody>\n",
       "    <tr>\n",
       "      <th>0</th>\n",
       "      <td>1</td>\n",
       "      <td>PolySciMajor EPA chief doesn't think carbon di...</td>\n",
       "      <td>625221</td>\n",
       "    </tr>\n",
       "    <tr>\n",
       "      <th>1</th>\n",
       "      <td>1</td>\n",
       "      <td>It's not like we lack evidence of anthropogeni...</td>\n",
       "      <td>126103</td>\n",
       "    </tr>\n",
       "    <tr>\n",
       "      <th>2</th>\n",
       "      <td>2</td>\n",
       "      <td>RT @RawStory: Researchers say we have three ye...</td>\n",
       "      <td>698562</td>\n",
       "    </tr>\n",
       "    <tr>\n",
       "      <th>3</th>\n",
       "      <td>1</td>\n",
       "      <td>#TodayinMaker# WIRED : 2016 was a pivotal year...</td>\n",
       "      <td>573736</td>\n",
       "    </tr>\n",
       "    <tr>\n",
       "      <th>4</th>\n",
       "      <td>1</td>\n",
       "      <td>RT @SoyNovioDeTodas: It's 2016, and a racist, ...</td>\n",
       "      <td>466954</td>\n",
       "    </tr>\n",
       "  </tbody>\n",
       "</table>\n",
       "</div>"
      ],
      "text/plain": [
       "   sentiment                                            message  tweetid\n",
       "0          1  PolySciMajor EPA chief doesn't think carbon di...   625221\n",
       "1          1  It's not like we lack evidence of anthropogeni...   126103\n",
       "2          2  RT @RawStory: Researchers say we have three ye...   698562\n",
       "3          1  #TodayinMaker# WIRED : 2016 was a pivotal year...   573736\n",
       "4          1  RT @SoyNovioDeTodas: It's 2016, and a racist, ...   466954"
      ]
     },
     "execution_count": 5,
     "metadata": {},
     "output_type": "execute_result"
    }
   ],
   "source": [
    "df_train.head()"
   ]
  },
  {
   "cell_type": "code",
   "execution_count": 6,
   "id": "2fb74182",
   "metadata": {},
   "outputs": [
    {
     "data": {
      "text/html": [
       "<div>\n",
       "<style scoped>\n",
       "    .dataframe tbody tr th:only-of-type {\n",
       "        vertical-align: middle;\n",
       "    }\n",
       "\n",
       "    .dataframe tbody tr th {\n",
       "        vertical-align: top;\n",
       "    }\n",
       "\n",
       "    .dataframe thead th {\n",
       "        text-align: right;\n",
       "    }\n",
       "</style>\n",
       "<table border=\"1\" class=\"dataframe\">\n",
       "  <thead>\n",
       "    <tr style=\"text-align: right;\">\n",
       "      <th></th>\n",
       "      <th>message</th>\n",
       "      <th>tweetid</th>\n",
       "    </tr>\n",
       "  </thead>\n",
       "  <tbody>\n",
       "    <tr>\n",
       "      <th>0</th>\n",
       "      <td>Europe will now be looking to China to make su...</td>\n",
       "      <td>169760</td>\n",
       "    </tr>\n",
       "    <tr>\n",
       "      <th>1</th>\n",
       "      <td>Combine this with the polling of staffers re c...</td>\n",
       "      <td>35326</td>\n",
       "    </tr>\n",
       "    <tr>\n",
       "      <th>2</th>\n",
       "      <td>The scary, unimpeachable evidence that climate...</td>\n",
       "      <td>224985</td>\n",
       "    </tr>\n",
       "    <tr>\n",
       "      <th>3</th>\n",
       "      <td>@Karoli @morgfair @OsborneInk @dailykos \\nPuti...</td>\n",
       "      <td>476263</td>\n",
       "    </tr>\n",
       "    <tr>\n",
       "      <th>4</th>\n",
       "      <td>RT @FakeWillMoore: 'Female orgasms cause globa...</td>\n",
       "      <td>872928</td>\n",
       "    </tr>\n",
       "  </tbody>\n",
       "</table>\n",
       "</div>"
      ],
      "text/plain": [
       "                                             message  tweetid\n",
       "0  Europe will now be looking to China to make su...   169760\n",
       "1  Combine this with the polling of staffers re c...    35326\n",
       "2  The scary, unimpeachable evidence that climate...   224985\n",
       "3  @Karoli @morgfair @OsborneInk @dailykos \\nPuti...   476263\n",
       "4  RT @FakeWillMoore: 'Female orgasms cause globa...   872928"
      ]
     },
     "execution_count": 6,
     "metadata": {},
     "output_type": "execute_result"
    }
   ],
   "source": [
    "df_test.head()"
   ]
  },
  {
   "cell_type": "markdown",
   "id": "ac51b87c",
   "metadata": {},
   "source": [
    "**Listing the Features in the Training and Test Dataset**"
   ]
  },
  {
   "cell_type": "code",
   "execution_count": 7,
   "id": "cf6b6d21",
   "metadata": {},
   "outputs": [
    {
     "name": "stdout",
     "output_type": "stream",
     "text": [
      "Table Columns : ['sentiment', 'message', 'tweetid']\n"
     ]
    }
   ],
   "source": [
    "print('Table Columns :', list(df_train.columns))"
   ]
  },
  {
   "cell_type": "code",
   "execution_count": 8,
   "id": "45faa645",
   "metadata": {},
   "outputs": [
    {
     "name": "stdout",
     "output_type": "stream",
     "text": [
      "Table Columns : ['message', 'tweetid']\n"
     ]
    }
   ],
   "source": [
    "print('Table Columns :', list(df_test.columns))"
   ]
  },
  {
   "cell_type": "markdown",
   "id": "6cc92899",
   "metadata": {},
   "source": [
    "**Examining the Information of the Training and Test Dataset**\n",
    "\n",
    "The information function provides a quick overview of the dataset which highlights importants details such as the number of rows and columns, the null values, the data types of each feature or column, and the memory usage. \n",
    "\n",
    "Therefore, we can assess the data quality, identify inconsistent data types, and determine the necessary data preprocessing steps."
   ]
  },
  {
   "cell_type": "code",
   "execution_count": 9,
   "id": "1055e994",
   "metadata": {},
   "outputs": [
    {
     "name": "stdout",
     "output_type": "stream",
     "text": [
      "<class 'pandas.core.frame.DataFrame'>\n",
      "RangeIndex: 15819 entries, 0 to 15818\n",
      "Data columns (total 3 columns):\n",
      " #   Column     Non-Null Count  Dtype \n",
      "---  ------     --------------  ----- \n",
      " 0   sentiment  15819 non-null  int64 \n",
      " 1   message    15819 non-null  object\n",
      " 2   tweetid    15819 non-null  int64 \n",
      "dtypes: int64(2), object(1)\n",
      "memory usage: 370.9+ KB\n"
     ]
    }
   ],
   "source": [
    "df_train.info()"
   ]
  },
  {
   "cell_type": "code",
   "execution_count": 10,
   "id": "6684eaa3",
   "metadata": {},
   "outputs": [
    {
     "name": "stdout",
     "output_type": "stream",
     "text": [
      "<class 'pandas.core.frame.DataFrame'>\n",
      "RangeIndex: 10546 entries, 0 to 10545\n",
      "Data columns (total 2 columns):\n",
      " #   Column   Non-Null Count  Dtype \n",
      "---  ------   --------------  ----- \n",
      " 0   message  10546 non-null  object\n",
      " 1   tweetid  10546 non-null  int64 \n",
      "dtypes: int64(1), object(1)\n",
      "memory usage: 164.9+ KB\n"
     ]
    }
   ],
   "source": [
    "df_test.info()"
   ]
  },
  {
   "cell_type": "markdown",
   "id": "eb8eda25",
   "metadata": {},
   "source": [
    "By examining null values it allows us to assess the data quality, determine how to handle the missing data (in an appropriate manner), and to mitigate any bias as it could reduce the validity and accuracy of the model.\n",
    "\n",
    "Both our datasets have an interger datatype and an object datatype. Preprocessing steps will be performed on the 'message' columns as text data often contains noise in the form of special characters, punctuation, HTML tags, URLs, and among other unwanted symbols and characters."
   ]
  },
  {
   "cell_type": "markdown",
   "id": "fad4d6ed",
   "metadata": {},
   "source": [
    "**Exploring the 'message' Column**\n",
    "\n",
    "By isolating the 'message' column we can identify the nature of the text as well as the appropriate preprocessing steps required."
   ]
  },
  {
   "cell_type": "code",
   "execution_count": 11,
   "id": "c1bac97c",
   "metadata": {},
   "outputs": [
    {
     "data": {
      "text/plain": [
       "0    PolySciMajor EPA chief doesn't think carbon di...\n",
       "1    It's not like we lack evidence of anthropogeni...\n",
       "2    RT @RawStory: Researchers say we have three ye...\n",
       "3    #TodayinMaker# WIRED : 2016 was a pivotal year...\n",
       "4    RT @SoyNovioDeTodas: It's 2016, and a racist, ...\n",
       "Name: message, dtype: object"
      ]
     },
     "execution_count": 11,
     "metadata": {},
     "output_type": "execute_result"
    }
   ],
   "source": [
    "df_train['message'].head()"
   ]
  },
  {
   "cell_type": "markdown",
   "id": "893d43b2",
   "metadata": {},
   "source": [
    "**Understanding the Shape of the Training and Test Data**"
   ]
  },
  {
   "cell_type": "code",
   "execution_count": 12,
   "id": "2a3feafc",
   "metadata": {},
   "outputs": [
    {
     "data": {
      "text/plain": [
       "(15819, 3)"
      ]
     },
     "execution_count": 12,
     "metadata": {},
     "output_type": "execute_result"
    }
   ],
   "source": [
    "df_train.shape"
   ]
  },
  {
   "cell_type": "code",
   "execution_count": 13,
   "id": "73d8213e",
   "metadata": {},
   "outputs": [
    {
     "data": {
      "text/plain": [
       "(10546, 2)"
      ]
     },
     "execution_count": 13,
     "metadata": {},
     "output_type": "execute_result"
    }
   ],
   "source": [
    "df_test.shape"
   ]
  },
  {
   "cell_type": "markdown",
   "id": "424c6774",
   "metadata": {},
   "source": [
    "The data shows that we have 15819 observations and 3 features (columns) in our training dataset. The test dataset contains 10546 observations and 2 features (Columns).\n",
    "\n",
    "As was stated by under the Data tab of the Kaggle competition, we are meant to have a total of 43 943 tweets for analysis. However, when we add our tweets for train and test data, the total is 26 356 which is 17 557 less than the aforementioned amount. \n",
    "\n",
    "The missing data raises a few questions:\n",
    "1. Was the data intentionally witheld?\n",
    "2. Are we required to collect our own data?"
   ]
  },
  {
   "cell_type": "markdown",
   "id": "39505f11",
   "metadata": {},
   "source": [
    "**Analyzing the 'sentiment' column in the Training Data**"
   ]
  },
  {
   "cell_type": "code",
   "execution_count": 14,
   "id": "4b19a4ec",
   "metadata": {},
   "outputs": [
    {
     "data": {
      "text/plain": [
       "array([ 1,  2,  0, -1], dtype=int64)"
      ]
     },
     "execution_count": 14,
     "metadata": {},
     "output_type": "execute_result"
    }
   ],
   "source": [
    "df_train.sentiment.unique()"
   ]
  },
  {
   "cell_type": "code",
   "execution_count": 15,
   "id": "d8ea2f63",
   "metadata": {},
   "outputs": [
    {
     "data": {
      "text/plain": [
       " 1    8530\n",
       " 2    3640\n",
       " 0    2353\n",
       "-1    1296\n",
       "Name: sentiment, dtype: int64"
      ]
     },
     "execution_count": 15,
     "metadata": {},
     "output_type": "execute_result"
    }
   ],
   "source": [
    "df_train['sentiment'].value_counts()"
   ]
  },
  {
   "cell_type": "markdown",
   "id": "b86435eb",
   "metadata": {},
   "source": [
    "We are provided with the sentiment distribution and the range of sentiments represented within the training dataset."
   ]
  },
  {
   "cell_type": "markdown",
   "id": "9d5cee0d",
   "metadata": {},
   "source": [
    "### 3.2 Exploratory Data Analysis: Insights from Visualizations"
   ]
  },
  {
   "cell_type": "markdown",
   "id": "1413005e",
   "metadata": {},
   "source": [
    "#### Bar Graph"
   ]
  },
  {
   "cell_type": "code",
   "execution_count": 16,
   "id": "3e84ba02",
   "metadata": {},
   "outputs": [
    {
     "data": {
      "image/png": "[encoded data removed]",
      "text/plain": [
       "<Figure size 800x600 with 1 Axes>"
      ]
     },
     "metadata": {},
     "output_type": "display_data"
    }
   ],
   "source": [
    "# Mapping sentiment scores to labels\n",
    "sentiment_labels = {-1: 'Anti', 0: 'Neutral', 1: 'Pro', 2: 'News'}\n",
    "df_train['sentiment_label'] = df_train['sentiment'].replace(sentiment_labels)\n",
    "\n",
    "# Calculate the count and percentage for each category\n",
    "count_data = df_train['sentiment_label'].value_counts()\n",
    "percentage_data = (count_data / len(df_train)) * 100\n",
    "\n",
    "# Define the figure size\n",
    "plt.figure(figsize=(8, 6))  # Adjust the width and height as per your preference\n",
    "\n",
    "# Plotting the countplot with arranged bars\n",
    "sns.countplot(x='sentiment_label', data=df_train, order=count_data.index)\n",
    "\n",
    "# Displaying the plot\n",
    "plt.xlabel('Sentiment Label')\n",
    "plt.ylabel('Count')\n",
    "plt.title('Distribution of Sentiment Labels')\n",
    "\n",
    "# Adding percentages to the plot\n",
    "for i, count in enumerate(count_data):\n",
    "    plt.text(i, count, f'{percentage_data[i]:.2f}%', ha='center', va='bottom')\n",
    "\n",
    "plt.show()"
   ]
  },
  {
   "cell_type": "markdown",
   "id": "afa5ea22",
   "metadata": {},
   "source": [
    "The bar graph depicted above shows the distribution of number of tweets with regards to climate change. The imbalance in the dataset raise a few questions, such as: \n",
    "\n",
    "- Does the inherent nature of the topic lead to a higher prevalence of 'Pro' tweets and low occurance of 'Anti' tweets?\n",
    "- Are people more vocal about topics they strongly believe in? Which could result in a greater representation of 'Pro' and 'News' tweets.\n",
    "- For those individuals who do not believe in climate change being a man-made cause, are they less inclined to tweet about it or use any other social media platforms to express their views? \n",
    "\n",
    "Alternative reasons to for the imbalance in the dataset include:\n",
    "- Bias in Data Collection (i.e. collected from specific sources or platforms)\n",
    "- Sampling Bias (was the data randomly selected?)"
   ]
  },
  {
   "cell_type": "markdown",
   "id": "2148afca",
   "metadata": {},
   "source": [
    "#### Violin Plot"
   ]
  },
  {
   "cell_type": "code",
   "execution_count": 17,
   "id": "be6ef12f",
   "metadata": {},
   "outputs": [],
   "source": [
    "df_train['message_length'] = df_train['message'].apply(len)\n",
    "df_test['message_length'] = df_test['message'].apply(len)"
   ]
  },
  {
   "cell_type": "markdown",
   "id": "7209bce3",
   "metadata": {},
   "source": [
    "Features extraction of the tweet lengths across."
   ]
  },
  {
   "cell_type": "code",
   "execution_count": 18,
   "id": "e29d78c9",
   "metadata": {},
   "outputs": [
    {
     "data": {
      "text/html": [
       "<div>\n",
       "<style scoped>\n",
       "    .dataframe tbody tr th:only-of-type {\n",
       "        vertical-align: middle;\n",
       "    }\n",
       "\n",
       "    .dataframe tbody tr th {\n",
       "        vertical-align: top;\n",
       "    }\n",
       "\n",
       "    .dataframe thead th {\n",
       "        text-align: right;\n",
       "    }\n",
       "</style>\n",
       "<table border=\"1\" class=\"dataframe\">\n",
       "  <thead>\n",
       "    <tr style=\"text-align: right;\">\n",
       "      <th></th>\n",
       "      <th>sentiment</th>\n",
       "      <th>message</th>\n",
       "      <th>tweetid</th>\n",
       "      <th>sentiment_label</th>\n",
       "      <th>message_length</th>\n",
       "    </tr>\n",
       "  </thead>\n",
       "  <tbody>\n",
       "    <tr>\n",
       "      <th>0</th>\n",
       "      <td>1</td>\n",
       "      <td>PolySciMajor EPA chief doesn't think carbon di...</td>\n",
       "      <td>625221</td>\n",
       "      <td>Pro</td>\n",
       "      <td>140</td>\n",
       "    </tr>\n",
       "    <tr>\n",
       "      <th>1</th>\n",
       "      <td>1</td>\n",
       "      <td>It's not like we lack evidence of anthropogeni...</td>\n",
       "      <td>126103</td>\n",
       "      <td>Pro</td>\n",
       "      <td>62</td>\n",
       "    </tr>\n",
       "    <tr>\n",
       "      <th>2</th>\n",
       "      <td>2</td>\n",
       "      <td>RT @RawStory: Researchers say we have three ye...</td>\n",
       "      <td>698562</td>\n",
       "      <td>News</td>\n",
       "      <td>140</td>\n",
       "    </tr>\n",
       "    <tr>\n",
       "      <th>3</th>\n",
       "      <td>1</td>\n",
       "      <td>#TodayinMaker# WIRED : 2016 was a pivotal year...</td>\n",
       "      <td>573736</td>\n",
       "      <td>Pro</td>\n",
       "      <td>99</td>\n",
       "    </tr>\n",
       "    <tr>\n",
       "      <th>4</th>\n",
       "      <td>1</td>\n",
       "      <td>RT @SoyNovioDeTodas: It's 2016, and a racist, ...</td>\n",
       "      <td>466954</td>\n",
       "      <td>Pro</td>\n",
       "      <td>122</td>\n",
       "    </tr>\n",
       "  </tbody>\n",
       "</table>\n",
       "</div>"
      ],
      "text/plain": [
       "   sentiment                                            message  tweetid  \\\n",
       "0          1  PolySciMajor EPA chief doesn't think carbon di...   625221   \n",
       "1          1  It's not like we lack evidence of anthropogeni...   126103   \n",
       "2          2  RT @RawStory: Researchers say we have three ye...   698562   \n",
       "3          1  #TodayinMaker# WIRED : 2016 was a pivotal year...   573736   \n",
       "4          1  RT @SoyNovioDeTodas: It's 2016, and a racist, ...   466954   \n",
       "\n",
       "  sentiment_label  message_length  \n",
       "0             Pro             140  \n",
       "1             Pro              62  \n",
       "2            News             140  \n",
       "3             Pro              99  \n",
       "4             Pro             122  "
      ]
     },
     "execution_count": 18,
     "metadata": {},
     "output_type": "execute_result"
    }
   ],
   "source": [
    "df_train.head()"
   ]
  },
  {
   "cell_type": "markdown",
   "id": "dc57688e",
   "metadata": {},
   "source": [
    "#### Violin Plot Explanation\n",
    "\n",
    "1. The white dot represents the median.\n",
    "2. The thick gray bar in the center represents the interquartile range\n",
    "3. The thin gray line represents the rest of the distribution, except for points that are determined to be “outliers” using a method that is a function of the interquartile range.\n",
    "4. On each side of the gray line is a kernel density estimation to show the distribution shape of the data. Wider sections of the violin plot represent a higher probability that members of the population will take on the given value; the skinnier sections represent a lower probability."
   ]
  },
  {
   "cell_type": "code",
   "execution_count": 19,
   "id": "5c7b5d64",
   "metadata": {},
   "outputs": [
    {
     "data": {
      "text/plain": [
       "Text(0.5, 0, 'Sentiment Class')"
      ]
     },
     "execution_count": 19,
     "metadata": {},
     "output_type": "execute_result"
    },
    {
     "data": {
      "image/png": "[encoded data removed]",
      "text/plain": [
       "<Figure size 800x500 with 1 Axes>"
      ]
     },
     "metadata": {},
     "output_type": "display_data"
    }
   ],
   "source": [
    "#Create a violinplot of the dataset\n",
    "plt.figure(figsize=(8,5)) #Set the figsize to 8 and 5 respectively\n",
    "plt.title('Sentiments vs. Length of tweets') #Add the title of the violin plot\n",
    "sns.violinplot(x='sentiment', y='message_length', data = df_train,scale='count') #Add the dimentions of the violin plot\n",
    "plt.ylabel(\"Length of the tweets\") #Y_lable of the plot\n",
    "plt.xlabel(\"Sentiment Class\") #X_label of the plot"
   ]
  },
  {
   "cell_type": "markdown",
   "id": "4ab98ba1",
   "metadata": {},
   "source": [
    "The initial belief was that those individuals who believe that climate change is man-made were expected to have longer tweets (i.e. text length). However, the average tweet length is approximately equal across all sentiments. This could be due to the fact that the tweets are limited to a certain number of characters."
   ]
  },
  {
   "cell_type": "markdown",
   "id": "157bfdc1",
   "metadata": {},
   "source": [
    "#### Re-Tweets"
   ]
  },
  {
   "cell_type": "code",
   "execution_count": 20,
   "id": "be737a7e",
   "metadata": {},
   "outputs": [
    {
     "data": {
      "text/html": [
       "<div>\n",
       "<style scoped>\n",
       "    .dataframe tbody tr th:only-of-type {\n",
       "        vertical-align: middle;\n",
       "    }\n",
       "\n",
       "    .dataframe tbody tr th {\n",
       "        vertical-align: top;\n",
       "    }\n",
       "\n",
       "    .dataframe thead th {\n",
       "        text-align: right;\n",
       "    }\n",
       "</style>\n",
       "<table border=\"1\" class=\"dataframe\">\n",
       "  <thead>\n",
       "    <tr style=\"text-align: right;\">\n",
       "      <th></th>\n",
       "      <th>sentiment</th>\n",
       "      <th>message</th>\n",
       "      <th>tweetid</th>\n",
       "      <th>sentiment_label</th>\n",
       "      <th>message_length</th>\n",
       "    </tr>\n",
       "  </thead>\n",
       "  <tbody>\n",
       "    <tr>\n",
       "      <th>51</th>\n",
       "      <td>1</td>\n",
       "      <td>RT @StephenSchlegel: she's thinking about how ...</td>\n",
       "      <td>785499</td>\n",
       "      <td>Pro</td>\n",
       "      <td>146</td>\n",
       "    </tr>\n",
       "    <tr>\n",
       "      <th>70</th>\n",
       "      <td>1</td>\n",
       "      <td>RT @kelkulus: Irony: Florida, a state in dange...</td>\n",
       "      <td>857540</td>\n",
       "      <td>Pro</td>\n",
       "      <td>146</td>\n",
       "    </tr>\n",
       "    <tr>\n",
       "      <th>98</th>\n",
       "      <td>1</td>\n",
       "      <td>RT @StephenSchlegel: she's thinking about how ...</td>\n",
       "      <td>603318</td>\n",
       "      <td>Pro</td>\n",
       "      <td>146</td>\n",
       "    </tr>\n",
       "    <tr>\n",
       "      <th>112</th>\n",
       "      <td>1</td>\n",
       "      <td>RT @SenSanders: We have a president-elect who ...</td>\n",
       "      <td>664093</td>\n",
       "      <td>Pro</td>\n",
       "      <td>138</td>\n",
       "    </tr>\n",
       "    <tr>\n",
       "      <th>122</th>\n",
       "      <td>1</td>\n",
       "      <td>RT @StephenSchlegel: she's thinking about how ...</td>\n",
       "      <td>97375</td>\n",
       "      <td>Pro</td>\n",
       "      <td>146</td>\n",
       "    </tr>\n",
       "    <tr>\n",
       "      <th>...</th>\n",
       "      <td>...</td>\n",
       "      <td>...</td>\n",
       "      <td>...</td>\n",
       "      <td>...</td>\n",
       "      <td>...</td>\n",
       "    </tr>\n",
       "    <tr>\n",
       "      <th>15781</th>\n",
       "      <td>1</td>\n",
       "      <td>RT @StephenSchlegel: she's thinking about how ...</td>\n",
       "      <td>869993</td>\n",
       "      <td>Pro</td>\n",
       "      <td>146</td>\n",
       "    </tr>\n",
       "    <tr>\n",
       "      <th>15799</th>\n",
       "      <td>1</td>\n",
       "      <td>RT @SethMacFarlane: HRC proposes installing ha...</td>\n",
       "      <td>52528</td>\n",
       "      <td>Pro</td>\n",
       "      <td>146</td>\n",
       "    </tr>\n",
       "    <tr>\n",
       "      <th>15801</th>\n",
       "      <td>1</td>\n",
       "      <td>RT @SenSanders: On virtually every major issue...</td>\n",
       "      <td>331127</td>\n",
       "      <td>Pro</td>\n",
       "      <td>147</td>\n",
       "    </tr>\n",
       "    <tr>\n",
       "      <th>15811</th>\n",
       "      <td>1</td>\n",
       "      <td>RT @StephenSchlegel: she's thinking about how ...</td>\n",
       "      <td>426353</td>\n",
       "      <td>Pro</td>\n",
       "      <td>146</td>\n",
       "    </tr>\n",
       "    <tr>\n",
       "      <th>15815</th>\n",
       "      <td>2</td>\n",
       "      <td>RT @washingtonpost: How climate change could b...</td>\n",
       "      <td>17856</td>\n",
       "      <td>News</td>\n",
       "      <td>119</td>\n",
       "    </tr>\n",
       "  </tbody>\n",
       "</table>\n",
       "<p>1590 rows × 5 columns</p>\n",
       "</div>"
      ],
      "text/plain": [
       "       sentiment                                            message  tweetid  \\\n",
       "51             1  RT @StephenSchlegel: she's thinking about how ...   785499   \n",
       "70             1  RT @kelkulus: Irony: Florida, a state in dange...   857540   \n",
       "98             1  RT @StephenSchlegel: she's thinking about how ...   603318   \n",
       "112            1  RT @SenSanders: We have a president-elect who ...   664093   \n",
       "122            1  RT @StephenSchlegel: she's thinking about how ...    97375   \n",
       "...          ...                                                ...      ...   \n",
       "15781          1  RT @StephenSchlegel: she's thinking about how ...   869993   \n",
       "15799          1  RT @SethMacFarlane: HRC proposes installing ha...    52528   \n",
       "15801          1  RT @SenSanders: On virtually every major issue...   331127   \n",
       "15811          1  RT @StephenSchlegel: she's thinking about how ...   426353   \n",
       "15815          2  RT @washingtonpost: How climate change could b...    17856   \n",
       "\n",
       "      sentiment_label  message_length  \n",
       "51                Pro             146  \n",
       "70                Pro             146  \n",
       "98                Pro             146  \n",
       "112               Pro             138  \n",
       "122               Pro             146  \n",
       "...               ...             ...  \n",
       "15781             Pro             146  \n",
       "15799             Pro             146  \n",
       "15801             Pro             147  \n",
       "15811             Pro             146  \n",
       "15815            News             119  \n",
       "\n",
       "[1590 rows x 5 columns]"
      ]
     },
     "execution_count": 20,
     "metadata": {},
     "output_type": "execute_result"
    }
   ],
   "source": [
    "# Find duplicate messages\n",
    "df_duplicate = df_train[df_train['message'].duplicated()]\n",
    "\n",
    "# Print non-unique messages\n",
    "df_duplicate"
   ]
  },
  {
   "cell_type": "code",
   "execution_count": 21,
   "id": "99ec5cfd",
   "metadata": {},
   "outputs": [
    {
     "data": {
      "text/plain": [
       "sentiment          1590\n",
       "message            1590\n",
       "tweetid            1590\n",
       "sentiment_label    1590\n",
       "message_length     1590\n",
       "dtype: int64"
      ]
     },
     "execution_count": 21,
     "metadata": {},
     "output_type": "execute_result"
    }
   ],
   "source": [
    "df_duplicate.count()"
   ]
  },
  {
   "cell_type": "markdown",
   "id": "156517fb",
   "metadata": {},
   "source": [
    "There are 1590 re-tweets. The act of retweeting generally means that the original tweet resonates with that particular individual. Those who choose to retweet are spreading a message and indicating agreement, support, and/or engagement with the topic. \n",
    "\n",
    "\n",
    "We need to prove the hypothesis, that individuals who support the belief that climate change is a man-made result are more vocal about what they believe in, in comparision to those who do not share the same views. \n",
    "\n",
    "Let us assess the distribution of the re-tweets in order to determine if the majority were those who belive that climate change is man-made."
   ]
  },
  {
   "cell_type": "code",
   "execution_count": 22,
   "id": "d2e8deab",
   "metadata": {},
   "outputs": [
    {
     "data": {
      "text/plain": [
       " 1    1308\n",
       " 0     109\n",
       " 2      98\n",
       "-1      75\n",
       "Name: sentiment, dtype: int64"
      ]
     },
     "execution_count": 22,
     "metadata": {},
     "output_type": "execute_result"
    }
   ],
   "source": [
    "df_duplicate['sentiment'].value_counts()"
   ]
  },
  {
   "cell_type": "code",
   "execution_count": 23,
   "id": "43b0896d",
   "metadata": {},
   "outputs": [
    {
     "data": {
      "image/png": "[encoded data removed]",
      "text/plain": [
       "<Figure size 640x480 with 1 Axes>"
      ]
     },
     "metadata": {},
     "output_type": "display_data"
    }
   ],
   "source": [
    "df_duplicate['sentiment'].value_counts().plot(kind='pie', autopct='%.2f')\n",
    "plt.title(\"Sentiment Split of Re-Tweets\")\n",
    "\n",
    "plt.show()"
   ]
  },
  {
   "cell_type": "markdown",
   "id": "13457e78",
   "metadata": {},
   "source": [
    "This proves the hypothesis that those who believe that climate change is man-made are more likely to tweet, be more vocal and proactive about sharing their views compared to those indivuals that share other sentiments. \n",
    "\n",
    "In conculsion, we could be biased to say that more people believe that climate change is man-made."
   ]
  },
  {
   "cell_type": "markdown",
   "id": "14b47b53",
   "metadata": {},
   "source": [
    "### 3.3 Cleaning the Training and Test Dataset"
   ]
  },
  {
   "cell_type": "markdown",
   "id": "d9bf54a4",
   "metadata": {},
   "source": [
    "#### Removing Duplicates"
   ]
  },
  {
   "cell_type": "code",
   "execution_count": 24,
   "id": "6076d09a",
   "metadata": {},
   "outputs": [
    {
     "name": "stdout",
     "output_type": "stream",
     "text": [
      "Number of rows dropped in df_train: 1590\n"
     ]
    }
   ],
   "source": [
    "# Remove duplicate rows based on 'message' column in df_train\n",
    "initial_rows_train = df_train.shape[0]  # Number of rows before removing duplicates\n",
    "df_train = df_train.drop_duplicates(subset='message', keep='first').copy()\n",
    "final_rows_train = df_train.shape[0]  # Number of rows after removing duplicates\n",
    "\n",
    "# Print the number of rows dropped\n",
    "print(\"Number of rows dropped in df_train:\", initial_rows_train - final_rows_train)"
   ]
  },
  {
   "cell_type": "code",
   "execution_count": 25,
   "id": "f8fa7dfd",
   "metadata": {},
   "outputs": [
    {
     "data": {
      "text/html": [
       "<div>\n",
       "<style scoped>\n",
       "    .dataframe tbody tr th:only-of-type {\n",
       "        vertical-align: middle;\n",
       "    }\n",
       "\n",
       "    .dataframe tbody tr th {\n",
       "        vertical-align: top;\n",
       "    }\n",
       "\n",
       "    .dataframe thead th {\n",
       "        text-align: right;\n",
       "    }\n",
       "</style>\n",
       "<table border=\"1\" class=\"dataframe\">\n",
       "  <thead>\n",
       "    <tr style=\"text-align: right;\">\n",
       "      <th></th>\n",
       "      <th>sentiment</th>\n",
       "      <th>message</th>\n",
       "      <th>tweetid</th>\n",
       "      <th>sentiment_label</th>\n",
       "      <th>message_length</th>\n",
       "    </tr>\n",
       "  </thead>\n",
       "  <tbody>\n",
       "    <tr>\n",
       "      <th>0</th>\n",
       "      <td>1</td>\n",
       "      <td>PolySciMajor EPA chief doesn't think carbon di...</td>\n",
       "      <td>625221</td>\n",
       "      <td>Pro</td>\n",
       "      <td>140</td>\n",
       "    </tr>\n",
       "    <tr>\n",
       "      <th>1</th>\n",
       "      <td>1</td>\n",
       "      <td>It's not like we lack evidence of anthropogeni...</td>\n",
       "      <td>126103</td>\n",
       "      <td>Pro</td>\n",
       "      <td>62</td>\n",
       "    </tr>\n",
       "    <tr>\n",
       "      <th>2</th>\n",
       "      <td>2</td>\n",
       "      <td>RT @RawStory: Researchers say we have three ye...</td>\n",
       "      <td>698562</td>\n",
       "      <td>News</td>\n",
       "      <td>140</td>\n",
       "    </tr>\n",
       "    <tr>\n",
       "      <th>3</th>\n",
       "      <td>1</td>\n",
       "      <td>#TodayinMaker# WIRED : 2016 was a pivotal year...</td>\n",
       "      <td>573736</td>\n",
       "      <td>Pro</td>\n",
       "      <td>99</td>\n",
       "    </tr>\n",
       "    <tr>\n",
       "      <th>4</th>\n",
       "      <td>1</td>\n",
       "      <td>RT @SoyNovioDeTodas: It's 2016, and a racist, ...</td>\n",
       "      <td>466954</td>\n",
       "      <td>Pro</td>\n",
       "      <td>122</td>\n",
       "    </tr>\n",
       "    <tr>\n",
       "      <th>...</th>\n",
       "      <td>...</td>\n",
       "      <td>...</td>\n",
       "      <td>...</td>\n",
       "      <td>...</td>\n",
       "      <td>...</td>\n",
       "    </tr>\n",
       "    <tr>\n",
       "      <th>15813</th>\n",
       "      <td>1</td>\n",
       "      <td>RT @thinkprogress: EPA head falsely claims car...</td>\n",
       "      <td>442853</td>\n",
       "      <td>Pro</td>\n",
       "      <td>140</td>\n",
       "    </tr>\n",
       "    <tr>\n",
       "      <th>15814</th>\n",
       "      <td>1</td>\n",
       "      <td>RT @ezlusztig: They took down the material on ...</td>\n",
       "      <td>22001</td>\n",
       "      <td>Pro</td>\n",
       "      <td>140</td>\n",
       "    </tr>\n",
       "    <tr>\n",
       "      <th>15816</th>\n",
       "      <td>0</td>\n",
       "      <td>notiven: RT: nytimesworld :What does Trump act...</td>\n",
       "      <td>384248</td>\n",
       "      <td>Neutral</td>\n",
       "      <td>133</td>\n",
       "    </tr>\n",
       "    <tr>\n",
       "      <th>15817</th>\n",
       "      <td>-1</td>\n",
       "      <td>RT @sara8smiles: Hey liberals the climate chan...</td>\n",
       "      <td>819732</td>\n",
       "      <td>Anti</td>\n",
       "      <td>128</td>\n",
       "    </tr>\n",
       "    <tr>\n",
       "      <th>15818</th>\n",
       "      <td>0</td>\n",
       "      <td>RT @Chet_Cannon: .@kurteichenwald's 'climate c...</td>\n",
       "      <td>806319</td>\n",
       "      <td>Neutral</td>\n",
       "      <td>102</td>\n",
       "    </tr>\n",
       "  </tbody>\n",
       "</table>\n",
       "<p>14229 rows × 5 columns</p>\n",
       "</div>"
      ],
      "text/plain": [
       "       sentiment                                            message  tweetid  \\\n",
       "0              1  PolySciMajor EPA chief doesn't think carbon di...   625221   \n",
       "1              1  It's not like we lack evidence of anthropogeni...   126103   \n",
       "2              2  RT @RawStory: Researchers say we have three ye...   698562   \n",
       "3              1  #TodayinMaker# WIRED : 2016 was a pivotal year...   573736   \n",
       "4              1  RT @SoyNovioDeTodas: It's 2016, and a racist, ...   466954   \n",
       "...          ...                                                ...      ...   \n",
       "15813          1  RT @thinkprogress: EPA head falsely claims car...   442853   \n",
       "15814          1  RT @ezlusztig: They took down the material on ...    22001   \n",
       "15816          0  notiven: RT: nytimesworld :What does Trump act...   384248   \n",
       "15817         -1  RT @sara8smiles: Hey liberals the climate chan...   819732   \n",
       "15818          0  RT @Chet_Cannon: .@kurteichenwald's 'climate c...   806319   \n",
       "\n",
       "      sentiment_label  message_length  \n",
       "0                 Pro             140  \n",
       "1                 Pro              62  \n",
       "2                News             140  \n",
       "3                 Pro              99  \n",
       "4                 Pro             122  \n",
       "...               ...             ...  \n",
       "15813             Pro             140  \n",
       "15814             Pro             140  \n",
       "15816         Neutral             133  \n",
       "15817            Anti             128  \n",
       "15818         Neutral             102  \n",
       "\n",
       "[14229 rows x 5 columns]"
      ]
     },
     "execution_count": 25,
     "metadata": {},
     "output_type": "execute_result"
    }
   ],
   "source": [
    "# Display the updated train dataframe\n",
    "df_train"
   ]
  },
  {
   "cell_type": "markdown",
   "id": "9cfbbf87",
   "metadata": {},
   "source": [
    "Duplicate entries can become problematic due to number of reasons. While training the model, if an entry appears more than once it will receive a disproportionate weight. Duplicate entries can ruin the split between train, validation, and test sets where identical entries are not all in the same set. This could lead to biased performance estimates that result in disappointing the model in production. Therefore, if a model succeeds on duplicate/frequent entries it gives the impression that it is performing well."
   ]
  },
  {
   "cell_type": "markdown",
   "id": "37d8b12b",
   "metadata": {},
   "source": [
    "#### Emoji Conversion"
   ]
  },
  {
   "cell_type": "code",
   "execution_count": 26,
   "id": "c3a7a258",
   "metadata": {},
   "outputs": [],
   "source": [
    "emojis = {':)': 'smile', ':-)': 'smile', ';d': 'wink', ':-E': 'vampire', ':(': 'sad', \n",
    "          ':-(': 'sad', ':-<': 'sad', ':P': 'raspberry', ':O': 'surprised',\n",
    "          ':-@': 'shocked', ':@': 'shocked',':-$': 'confused', ':\\\\': 'annoyed', \n",
    "          ':#': 'mute', ':X': 'mute', ':^)': 'smile', ':-&': 'confused', '$_$': 'greedy',\n",
    "          '@@': 'eyeroll', ':-!': 'confused', ':-D': 'smile', ':-0': 'yell', 'O.o': 'confused',\n",
    "          '<(-_-)>': 'robot', 'd[-_-]b': 'dj', \":'-)\": 'sadsmile', ';)': 'wink', \n",
    "          ';-)': 'wink', 'O:-)': 'angel','O*-)': 'angel','(:-D': 'gossip', '=^.^=': 'cat'}"
   ]
  },
  {
   "cell_type": "code",
   "execution_count": 27,
   "id": "a2164a2d",
   "metadata": {},
   "outputs": [],
   "source": [
    "def emoji(text):\n",
    "    for emoji, word in emojis.items():\n",
    "        text = text.replace(emoji, word)\n",
    "    return text"
   ]
  },
  {
   "cell_type": "code",
   "execution_count": 28,
   "id": "462d66dc",
   "metadata": {},
   "outputs": [],
   "source": [
    "# Apply the emoji function to the 'message' column of the DataFrame\n",
    "df_train['message'] = df_train['message'].apply(emoji)\n",
    "df_test['message'] = df_test['message'].apply(emoji)"
   ]
  },
  {
   "cell_type": "markdown",
   "id": "b4f3bd14",
   "metadata": {},
   "source": [
    "For the emoji conversion, there is an attempt to locate all emojis (keys) within the tweet text and to replace it with the corresponding value defined in the dictionary that was created. This will replace the emoji with a word before we clean the rest of the noise from the text."
   ]
  },
  {
   "cell_type": "markdown",
   "id": "7eaf2df2",
   "metadata": {},
   "source": [
    "#### Contractions"
   ]
  },
  {
   "cell_type": "code",
   "execution_count": 29,
   "id": "a06c2b37",
   "metadata": {},
   "outputs": [
    {
     "data": {
      "text/html": [
       "<div>\n",
       "<style scoped>\n",
       "    .dataframe tbody tr th:only-of-type {\n",
       "        vertical-align: middle;\n",
       "    }\n",
       "\n",
       "    .dataframe tbody tr th {\n",
       "        vertical-align: top;\n",
       "    }\n",
       "\n",
       "    .dataframe thead th {\n",
       "        text-align: right;\n",
       "    }\n",
       "</style>\n",
       "<table border=\"1\" class=\"dataframe\">\n",
       "  <thead>\n",
       "    <tr style=\"text-align: right;\">\n",
       "      <th></th>\n",
       "      <th>sentiment</th>\n",
       "      <th>message</th>\n",
       "      <th>tweetid</th>\n",
       "      <th>sentiment_label</th>\n",
       "      <th>message_length</th>\n",
       "    </tr>\n",
       "  </thead>\n",
       "  <tbody>\n",
       "    <tr>\n",
       "      <th>0</th>\n",
       "      <td>1</td>\n",
       "      <td>PolySciMajor EPA chief does not think carbon d...</td>\n",
       "      <td>625221</td>\n",
       "      <td>Pro</td>\n",
       "      <td>140</td>\n",
       "    </tr>\n",
       "    <tr>\n",
       "      <th>1</th>\n",
       "      <td>1</td>\n",
       "      <td>It is not like we lack evidence of anthropogen...</td>\n",
       "      <td>126103</td>\n",
       "      <td>Pro</td>\n",
       "      <td>62</td>\n",
       "    </tr>\n",
       "    <tr>\n",
       "      <th>2</th>\n",
       "      <td>2</td>\n",
       "      <td>RT @RawStory: Researchers say we have three ye...</td>\n",
       "      <td>698562</td>\n",
       "      <td>News</td>\n",
       "      <td>140</td>\n",
       "    </tr>\n",
       "    <tr>\n",
       "      <th>3</th>\n",
       "      <td>1</td>\n",
       "      <td>#TodayinMaker# WIRED : 2016 was a pivotal year...</td>\n",
       "      <td>573736</td>\n",
       "      <td>Pro</td>\n",
       "      <td>99</td>\n",
       "    </tr>\n",
       "    <tr>\n",
       "      <th>4</th>\n",
       "      <td>1</td>\n",
       "      <td>RT @SoyNovioDeTodas: It is 2016, and a racist,...</td>\n",
       "      <td>466954</td>\n",
       "      <td>Pro</td>\n",
       "      <td>122</td>\n",
       "    </tr>\n",
       "  </tbody>\n",
       "</table>\n",
       "</div>"
      ],
      "text/plain": [
       "   sentiment                                            message  tweetid  \\\n",
       "0          1  PolySciMajor EPA chief does not think carbon d...   625221   \n",
       "1          1  It is not like we lack evidence of anthropogen...   126103   \n",
       "2          2  RT @RawStory: Researchers say we have three ye...   698562   \n",
       "3          1  #TodayinMaker# WIRED : 2016 was a pivotal year...   573736   \n",
       "4          1  RT @SoyNovioDeTodas: It is 2016, and a racist,...   466954   \n",
       "\n",
       "  sentiment_label  message_length  \n",
       "0             Pro             140  \n",
       "1             Pro              62  \n",
       "2            News             140  \n",
       "3             Pro              99  \n",
       "4             Pro             122  "
      ]
     },
     "execution_count": 29,
     "metadata": {},
     "output_type": "execute_result"
    }
   ],
   "source": [
    "df_train.loc[:, 'message'] = df_train['message'].apply(lambda x: contractions.fix(x))\n",
    "df_train['message'] = df_train['message'].apply(lambda x: contractions.fix(x))\n",
    "\n",
    "df_train.head()"
   ]
  },
  {
   "cell_type": "code",
   "execution_count": 30,
   "id": "707543a8",
   "metadata": {},
   "outputs": [
    {
     "data": {
      "text/html": [
       "<div>\n",
       "<style scoped>\n",
       "    .dataframe tbody tr th:only-of-type {\n",
       "        vertical-align: middle;\n",
       "    }\n",
       "\n",
       "    .dataframe tbody tr th {\n",
       "        vertical-align: top;\n",
       "    }\n",
       "\n",
       "    .dataframe thead th {\n",
       "        text-align: right;\n",
       "    }\n",
       "</style>\n",
       "<table border=\"1\" class=\"dataframe\">\n",
       "  <thead>\n",
       "    <tr style=\"text-align: right;\">\n",
       "      <th></th>\n",
       "      <th>message</th>\n",
       "      <th>tweetid</th>\n",
       "      <th>message_length</th>\n",
       "    </tr>\n",
       "  </thead>\n",
       "  <tbody>\n",
       "    <tr>\n",
       "      <th>0</th>\n",
       "      <td>Europe will now be looking to China to make su...</td>\n",
       "      <td>169760</td>\n",
       "      <td>121</td>\n",
       "    </tr>\n",
       "    <tr>\n",
       "      <th>1</th>\n",
       "      <td>Combine this with the polling of staffers re c...</td>\n",
       "      <td>35326</td>\n",
       "      <td>132</td>\n",
       "    </tr>\n",
       "    <tr>\n",
       "      <th>2</th>\n",
       "      <td>The scary, unimpeachable evidence that climate...</td>\n",
       "      <td>224985</td>\n",
       "      <td>139</td>\n",
       "    </tr>\n",
       "    <tr>\n",
       "      <th>3</th>\n",
       "      <td>@Karoli @morgfair @OsborneInk @dailykos \\nPuti...</td>\n",
       "      <td>476263</td>\n",
       "      <td>136</td>\n",
       "    </tr>\n",
       "    <tr>\n",
       "      <th>4</th>\n",
       "      <td>RT @FakeWillMoore: 'Female orgasms because glo...</td>\n",
       "      <td>872928</td>\n",
       "      <td>79</td>\n",
       "    </tr>\n",
       "  </tbody>\n",
       "</table>\n",
       "</div>"
      ],
      "text/plain": [
       "                                             message  tweetid  message_length\n",
       "0  Europe will now be looking to China to make su...   169760             121\n",
       "1  Combine this with the polling of staffers re c...    35326             132\n",
       "2  The scary, unimpeachable evidence that climate...   224985             139\n",
       "3  @Karoli @morgfair @OsborneInk @dailykos \\nPuti...   476263             136\n",
       "4  RT @FakeWillMoore: 'Female orgasms because glo...   872928              79"
      ]
     },
     "execution_count": 30,
     "metadata": {},
     "output_type": "execute_result"
    }
   ],
   "source": [
    "df_test.loc[:, 'message'] = df_test['message'].apply(lambda x: contractions.fix(x))\n",
    "df_test['message'] = df_test['message'].apply(lambda x: contractions.fix(x))\n",
    "\n",
    "df_test.head()"
   ]
  },
  {
   "cell_type": "markdown",
   "id": "f86e47f9",
   "metadata": {},
   "source": [
    "The code is applying the contractions function to the 'message' column of the Training and Test DataFrame, which will expand the contractions in the text."
   ]
  },
  {
   "cell_type": "markdown",
   "id": "0e52ac90",
   "metadata": {},
   "source": [
    "#### Removing Noise"
   ]
  },
  {
   "cell_type": "code",
   "execution_count": 31,
   "id": "d49ab10e",
   "metadata": {},
   "outputs": [],
   "source": [
    "def remove_noise(text):\n",
    "    # Replace URLs with \"url\"\n",
    "    text = re.sub(r'http[s]?://(?:[A-Za-z]|[0-9]|[$-_@.&+]|[!*\\(\\),]|(?:%[0-9A-Fa-f][0-9A-Fa-f]))+', 'http', text)\n",
    "\n",
    "    # Replace Twitter handles with \"user\"\n",
    "    text = re.sub(r'@\\w+', '', text)\n",
    "    \n",
    "    # Remove hashtags using regular expression\n",
    "    # text = re.sub(r'#\\w+', '', text)\n",
    "\n",
    "    # Replace special characters with a space\n",
    "    text = re.sub(r'[^a-zA-Z\\s]', ' ', text)\n",
    "\n",
    "    # Remove extra whitespaces\n",
    "    text = re.sub(r'\\s+', ' ', text).strip()\n",
    "    \n",
    "    # Convert to lowercase\n",
    "    text = text.lower()\n",
    "\n",
    "    # Remove stopwords\n",
    "    stop_words = set(stopwords.words('english'))\n",
    "    text = ' '.join(word for word in text.split() if word not in stop_words)\n",
    "    \n",
    "    return text"
   ]
  },
  {
   "cell_type": "code",
   "execution_count": 32,
   "id": "48d990a4",
   "metadata": {},
   "outputs": [],
   "source": [
    "# Apply the noise removal function to the 'message' column of the DataFrame\n",
    "df_train['message'] = df_train['message'].apply(remove_noise)\n",
    "df_test['message'] = df_test['message'].apply(remove_noise)"
   ]
  },
  {
   "cell_type": "markdown",
   "id": "ca100ee2",
   "metadata": {},
   "source": [
    "#### Tokenize and Lemmatize"
   ]
  },
  {
   "cell_type": "code",
   "execution_count": 33,
   "id": "0b2c4324",
   "metadata": {},
   "outputs": [],
   "source": [
    "# Create an instance of TreebankWordTokenizer\n",
    "#tokenizer = TreebankWordTokenizer()\n",
    "\n",
    "# Tokenize the \"message\" column\n",
    "df_train['message'] = df_train['message'].apply(lambda x: word_tokenize(x))\n",
    "df_test['message'] = df_test['message'].apply(lambda x: word_tokenize(x))\n",
    "\n",
    "# Initialize the lemmatizer\n",
    "lemmatizer = WordNetLemmatizer()\n",
    "\n",
    "# Lemmatize the tokenized words\n",
    "df_train['message'] = df_train['message'].apply(lambda x: [lemmatizer.lemmatize(word) for word in x])\n",
    "df_test['message'] = df_test['message'].apply(lambda x: [lemmatizer.lemmatize(word) for word in x])\n",
    "\n",
    "# Join lemmatized list of words\n",
    "df_train['message'] = df_train['message'].apply(lambda x: ' '.join(x))\n",
    "df_test['message'] = df_test['message'].apply(lambda x: ' '.join(x))\n",
    "\n",
    "# Tokenize the \"message\" column\n",
    "df_train['token_list'] = df_train['message'].apply(lambda x: word_tokenize(x))\n",
    "df_test['token_list'] = df_test['message'].apply(lambda x: word_tokenize(x))"
   ]
  },
  {
   "cell_type": "code",
   "execution_count": 34,
   "id": "9b7a4615",
   "metadata": {},
   "outputs": [
    {
     "data": {
      "text/html": [
       "<div>\n",
       "<style scoped>\n",
       "    .dataframe tbody tr th:only-of-type {\n",
       "        vertical-align: middle;\n",
       "    }\n",
       "\n",
       "    .dataframe tbody tr th {\n",
       "        vertical-align: top;\n",
       "    }\n",
       "\n",
       "    .dataframe thead th {\n",
       "        text-align: right;\n",
       "    }\n",
       "</style>\n",
       "<table border=\"1\" class=\"dataframe\">\n",
       "  <thead>\n",
       "    <tr style=\"text-align: right;\">\n",
       "      <th></th>\n",
       "      <th>sentiment</th>\n",
       "      <th>message</th>\n",
       "      <th>tweetid</th>\n",
       "      <th>sentiment_label</th>\n",
       "      <th>message_length</th>\n",
       "      <th>token_list</th>\n",
       "    </tr>\n",
       "  </thead>\n",
       "  <tbody>\n",
       "    <tr>\n",
       "      <th>0</th>\n",
       "      <td>1</td>\n",
       "      <td>polyscimajor epa chief think carbon dioxide ma...</td>\n",
       "      <td>625221</td>\n",
       "      <td>Pro</td>\n",
       "      <td>140</td>\n",
       "      <td>[polyscimajor, epa, chief, think, carbon, diox...</td>\n",
       "    </tr>\n",
       "    <tr>\n",
       "      <th>1</th>\n",
       "      <td>1</td>\n",
       "      <td>like lack evidence anthropogenic global warming</td>\n",
       "      <td>126103</td>\n",
       "      <td>Pro</td>\n",
       "      <td>62</td>\n",
       "      <td>[like, lack, evidence, anthropogenic, global, ...</td>\n",
       "    </tr>\n",
       "    <tr>\n",
       "      <th>2</th>\n",
       "      <td>2</td>\n",
       "      <td>rt researcher say three year act climate chang...</td>\n",
       "      <td>698562</td>\n",
       "      <td>News</td>\n",
       "      <td>140</td>\n",
       "      <td>[rt, researcher, say, three, year, act, climat...</td>\n",
       "    </tr>\n",
       "    <tr>\n",
       "      <th>3</th>\n",
       "      <td>1</td>\n",
       "      <td>todayinmaker wired pivotal year war climate ch...</td>\n",
       "      <td>573736</td>\n",
       "      <td>Pro</td>\n",
       "      <td>99</td>\n",
       "      <td>[todayinmaker, wired, pivotal, year, war, clim...</td>\n",
       "    </tr>\n",
       "    <tr>\n",
       "      <th>4</th>\n",
       "      <td>1</td>\n",
       "      <td>rt racist sexist climate change denying bigot ...</td>\n",
       "      <td>466954</td>\n",
       "      <td>Pro</td>\n",
       "      <td>122</td>\n",
       "      <td>[rt, racist, sexist, climate, change, denying,...</td>\n",
       "    </tr>\n",
       "  </tbody>\n",
       "</table>\n",
       "</div>"
      ],
      "text/plain": [
       "   sentiment                                            message  tweetid  \\\n",
       "0          1  polyscimajor epa chief think carbon dioxide ma...   625221   \n",
       "1          1    like lack evidence anthropogenic global warming   126103   \n",
       "2          2  rt researcher say three year act climate chang...   698562   \n",
       "3          1  todayinmaker wired pivotal year war climate ch...   573736   \n",
       "4          1  rt racist sexist climate change denying bigot ...   466954   \n",
       "\n",
       "  sentiment_label  message_length  \\\n",
       "0             Pro             140   \n",
       "1             Pro              62   \n",
       "2            News             140   \n",
       "3             Pro              99   \n",
       "4             Pro             122   \n",
       "\n",
       "                                          token_list  \n",
       "0  [polyscimajor, epa, chief, think, carbon, diox...  \n",
       "1  [like, lack, evidence, anthropogenic, global, ...  \n",
       "2  [rt, researcher, say, three, year, act, climat...  \n",
       "3  [todayinmaker, wired, pivotal, year, war, clim...  \n",
       "4  [rt, racist, sexist, climate, change, denying,...  "
      ]
     },
     "execution_count": 34,
     "metadata": {},
     "output_type": "execute_result"
    }
   ],
   "source": [
    "df_train.head()"
   ]
  },
  {
   "cell_type": "code",
   "execution_count": 35,
   "id": "5b8fa6b4",
   "metadata": {},
   "outputs": [
    {
     "data": {
      "text/html": [
       "<div>\n",
       "<style scoped>\n",
       "    .dataframe tbody tr th:only-of-type {\n",
       "        vertical-align: middle;\n",
       "    }\n",
       "\n",
       "    .dataframe tbody tr th {\n",
       "        vertical-align: top;\n",
       "    }\n",
       "\n",
       "    .dataframe thead th {\n",
       "        text-align: right;\n",
       "    }\n",
       "</style>\n",
       "<table border=\"1\" class=\"dataframe\">\n",
       "  <thead>\n",
       "    <tr style=\"text-align: right;\">\n",
       "      <th></th>\n",
       "      <th>message</th>\n",
       "      <th>tweetid</th>\n",
       "      <th>message_length</th>\n",
       "      <th>token_list</th>\n",
       "    </tr>\n",
       "  </thead>\n",
       "  <tbody>\n",
       "    <tr>\n",
       "      <th>0</th>\n",
       "      <td>europe looking china make sure alone fighting ...</td>\n",
       "      <td>169760</td>\n",
       "      <td>121</td>\n",
       "      <td>[europe, looking, china, make, sure, alone, fi...</td>\n",
       "    </tr>\n",
       "    <tr>\n",
       "      <th>1</th>\n",
       "      <td>combine polling staffer climate change woman r...</td>\n",
       "      <td>35326</td>\n",
       "      <td>132</td>\n",
       "      <td>[combine, polling, staffer, climate, change, w...</td>\n",
       "    </tr>\n",
       "    <tr>\n",
       "      <th>2</th>\n",
       "      <td>scary unimpeachable evidence climate change al...</td>\n",
       "      <td>224985</td>\n",
       "      <td>139</td>\n",
       "      <td>[scary, unimpeachable, evidence, climate, chan...</td>\n",
       "    </tr>\n",
       "    <tr>\n",
       "      <th>3</th>\n",
       "      <td>putin got jill trump believe climate change th...</td>\n",
       "      <td>476263</td>\n",
       "      <td>136</td>\n",
       "      <td>[putin, got, jill, trump, believe, climate, ch...</td>\n",
       "    </tr>\n",
       "    <tr>\n",
       "      <th>4</th>\n",
       "      <td>rt female orgasm global warming sarcastic repu...</td>\n",
       "      <td>872928</td>\n",
       "      <td>79</td>\n",
       "      <td>[rt, female, orgasm, global, warming, sarcasti...</td>\n",
       "    </tr>\n",
       "  </tbody>\n",
       "</table>\n",
       "</div>"
      ],
      "text/plain": [
       "                                             message  tweetid  message_length  \\\n",
       "0  europe looking china make sure alone fighting ...   169760             121   \n",
       "1  combine polling staffer climate change woman r...    35326             132   \n",
       "2  scary unimpeachable evidence climate change al...   224985             139   \n",
       "3  putin got jill trump believe climate change th...   476263             136   \n",
       "4  rt female orgasm global warming sarcastic repu...   872928              79   \n",
       "\n",
       "                                          token_list  \n",
       "0  [europe, looking, china, make, sure, alone, fi...  \n",
       "1  [combine, polling, staffer, climate, change, w...  \n",
       "2  [scary, unimpeachable, evidence, climate, chan...  \n",
       "3  [putin, got, jill, trump, believe, climate, ch...  \n",
       "4  [rt, female, orgasm, global, warming, sarcasti...  "
      ]
     },
     "execution_count": 35,
     "metadata": {},
     "output_type": "execute_result"
    }
   ],
   "source": [
    "df_test.head()"
   ]
  },
  {
   "cell_type": "markdown",
   "id": "c0b6a600",
   "metadata": {},
   "source": [
    "### 3.4 Word Cloud: Word Frequency Analysis"
   ]
  },
  {
   "cell_type": "markdown",
   "id": "343ae925",
   "metadata": {},
   "source": [
    "#### Word Frequency"
   ]
  },
  {
   "cell_type": "code",
   "execution_count": 36,
   "id": "6908bb97",
   "metadata": {},
   "outputs": [],
   "source": [
    "word_freq2 = nltk.FreqDist(np.hstack(df_train[df_train['sentiment'] == 2]['token_list']))\n",
    "word_freq1 = nltk.FreqDist(np.hstack(df_train[df_train['sentiment'] == 1]['token_list']))\n",
    "word_freq0 = nltk.FreqDist(np.hstack(df_train[df_train['sentiment'] == 0]['token_list']))\n",
    "word_freqneg1 = nltk.FreqDist(np.hstack(df_train[df_train['sentiment'] == -1]['token_list']))"
   ]
  },
  {
   "cell_type": "markdown",
   "id": "b93cf090",
   "metadata": {},
   "source": [
    "The purpose of the code provided above is to determine the frequency distribution of the tokens for each of the four sentiment classes. It will help understand which of tokens occur more frequently."
   ]
  },
  {
   "cell_type": "code",
   "execution_count": 37,
   "id": "5c9ab729",
   "metadata": {},
   "outputs": [],
   "source": [
    "# Get top words for each sentiment\n",
    "top_words2 = dict(word_freq2.most_common(30))\n",
    "top_words1 = dict(word_freq1.most_common(30))\n",
    "top_words0 = dict(word_freq0.most_common(30))\n",
    "top_wordsneg1 = dict(word_freqneg1.most_common(30))"
   ]
  },
  {
   "cell_type": "markdown",
   "id": "1e577ca6",
   "metadata": {},
   "source": [
    "By creating the \"top_words\" dictionaries, we can easily access the most frequent words and their frequencies. This information can be used for various purposes, such as analyzing the most important or representative words in each of the four sentiment classes."
   ]
  },
  {
   "cell_type": "markdown",
   "id": "a272f41c",
   "metadata": {},
   "source": [
    "#### Plotting the Wordcloud for each Sentiment"
   ]
  },
  {
   "cell_type": "code",
   "execution_count": 38,
   "id": "d497d128",
   "metadata": {},
   "outputs": [],
   "source": [
    "# Create word clouds for each sentiment\n",
    "wordcloud2 = WordCloud(width=800, height=400, background_color='white').generate_from_frequencies(top_words2)\n",
    "wordcloud1 = WordCloud(width=800, height=400, background_color='white').generate_from_frequencies(top_words1)\n",
    "wordcloud0 = WordCloud(width=800, height=400, background_color='white').generate_from_frequencies(top_words0)\n",
    "wordcloudneg1 = WordCloud(width=800, height=400, background_color='white').generate_from_frequencies(top_wordsneg1)"
   ]
  },
  {
   "cell_type": "code",
   "execution_count": 39,
   "id": "97208c86",
   "metadata": {},
   "outputs": [
    {
     "data": {
      "image/png": "[encoded data removed]",
      "text/plain": [
       "<Figure size 1000x500 with 4 Axes>"
      ]
     },
     "metadata": {},
     "output_type": "display_data"
    }
   ],
   "source": [
    "# Create subplots\n",
    "fig, axes = plt.subplots(2, 2, figsize=(10, 5))\n",
    "\n",
    "# Plot word clouds for each sentiment in subplots\n",
    "axes[0, 0].imshow(wordcloud1, interpolation='bilinear')\n",
    "axes[0, 0].set_title('Sentiment 1')\n",
    "axes[0, 0].axis('off')\n",
    "\n",
    "axes[0, 1].imshow(wordcloud2, interpolation='bilinear')\n",
    "axes[0, 1].set_title('Sentiment 2')\n",
    "axes[0, 1].axis('off')\n",
    "\n",
    "axes[1, 0].imshow(wordcloud0, interpolation='bilinear')\n",
    "axes[1, 0].set_title('Sentiment 0')\n",
    "axes[1, 0].axis('off')\n",
    "\n",
    "axes[1, 1].imshow(wordcloudneg1, interpolation='bilinear')\n",
    "axes[1, 1].set_title('Sentiment -1')\n",
    "axes[1, 1].axis('off')\n",
    "\n",
    "# Adjust spacing\n",
    "plt.subplots_adjust(hspace=0.4)\n",
    "\n",
    "# Show the plot\n",
    "plt.suptitle('Top 30 Words for Different Sentiments (Word Clouds)', fontsize=14)\n",
    "plt.show()"
   ]
  },
  {
   "cell_type": "markdown",
   "id": "727f919f",
   "metadata": {},
   "source": [
    "The word cloud, for each sentiment, highlights the most frequent words in each class. By choosing to visually analyze the word clouds, we gain an understanding of the most frequent words depending on the size of the word. There, we are able to determine the common theme associated with each sentiment."
   ]
  },
  {
   "cell_type": "markdown",
   "id": "3fa93ec6",
   "metadata": {},
   "source": [
    "<a id=\"four\"></a>\n",
    "## 4. Data Engineering\n",
    "<a class=\"anchor\" id=\"1.1\"></a>\n",
    "<a href=#cont>Back to Table of Contents</a>\n",
    "\n",
    "---\n",
    "    \n",
    "| ⚡ Description: Data engineering ⚡ |\n",
    "| :--------------------------- |\n",
    "| In this section you are required to: clean the dataset, and possibly create new features - as identified in the EDA phase. |\n",
    "\n",
    "---"
   ]
  },
  {
   "cell_type": "markdown",
   "id": "ee2c83ef",
   "metadata": {},
   "source": [
    "#### Extracting the common words"
   ]
  },
  {
   "cell_type": "code",
   "execution_count": 40,
   "id": "879f1d97",
   "metadata": {},
   "outputs": [
    {
     "data": {
      "text/plain": [
       "{'change', 'climate', 'global', 'http', 'rt', 'say', 'trump', 'u', 'warming'}"
      ]
     },
     "execution_count": 40,
     "metadata": {},
     "output_type": "execute_result"
    }
   ],
   "source": [
    "# Get the set of common words\n",
    "common_words = set(top_words1.keys()).intersection(top_words2.keys(), top_words0.keys(), top_wordsneg1.keys())\n",
    "common_words"
   ]
  },
  {
   "cell_type": "code",
   "execution_count": 41,
   "id": "1a280fb2",
   "metadata": {},
   "outputs": [],
   "source": [
    "def remove_common_words(text):\n",
    "    words = text.split()\n",
    "    filtered_words = [word for word in words if word.lower() not in common_words]\n",
    "    return ' '.join(filtered_words)\n",
    "\n",
    "# Step 3: Apply the function to the 'message' column\n",
    "df_train['No_Common_Words'] = df_train['message'].apply(remove_common_words)\n",
    "df_test['No_Common_Words'] = df_test['message'].apply(remove_common_words)"
   ]
  },
  {
   "cell_type": "code",
   "execution_count": 42,
   "id": "55fadecd",
   "metadata": {},
   "outputs": [
    {
     "data": {
      "text/html": [
       "<div>\n",
       "<style scoped>\n",
       "    .dataframe tbody tr th:only-of-type {\n",
       "        vertical-align: middle;\n",
       "    }\n",
       "\n",
       "    .dataframe tbody tr th {\n",
       "        vertical-align: top;\n",
       "    }\n",
       "\n",
       "    .dataframe thead th {\n",
       "        text-align: right;\n",
       "    }\n",
       "</style>\n",
       "<table border=\"1\" class=\"dataframe\">\n",
       "  <thead>\n",
       "    <tr style=\"text-align: right;\">\n",
       "      <th></th>\n",
       "      <th>sentiment</th>\n",
       "      <th>message</th>\n",
       "      <th>tweetid</th>\n",
       "      <th>sentiment_label</th>\n",
       "      <th>message_length</th>\n",
       "      <th>token_list</th>\n",
       "      <th>No_Common_Words</th>\n",
       "    </tr>\n",
       "  </thead>\n",
       "  <tbody>\n",
       "    <tr>\n",
       "      <th>0</th>\n",
       "      <td>1</td>\n",
       "      <td>polyscimajor epa chief think carbon dioxide ma...</td>\n",
       "      <td>625221</td>\n",
       "      <td>Pro</td>\n",
       "      <td>140</td>\n",
       "      <td>[polyscimajor, epa, chief, think, carbon, diox...</td>\n",
       "      <td>polyscimajor epa chief think carbon dioxide ma...</td>\n",
       "    </tr>\n",
       "    <tr>\n",
       "      <th>1</th>\n",
       "      <td>1</td>\n",
       "      <td>like lack evidence anthropogenic global warming</td>\n",
       "      <td>126103</td>\n",
       "      <td>Pro</td>\n",
       "      <td>62</td>\n",
       "      <td>[like, lack, evidence, anthropogenic, global, ...</td>\n",
       "      <td>like lack evidence anthropogenic</td>\n",
       "    </tr>\n",
       "    <tr>\n",
       "      <th>2</th>\n",
       "      <td>2</td>\n",
       "      <td>rt researcher say three year act climate chang...</td>\n",
       "      <td>698562</td>\n",
       "      <td>News</td>\n",
       "      <td>140</td>\n",
       "      <td>[rt, researcher, say, three, year, act, climat...</td>\n",
       "      <td>researcher three year act late</td>\n",
       "    </tr>\n",
       "    <tr>\n",
       "      <th>3</th>\n",
       "      <td>1</td>\n",
       "      <td>todayinmaker wired pivotal year war climate ch...</td>\n",
       "      <td>573736</td>\n",
       "      <td>Pro</td>\n",
       "      <td>99</td>\n",
       "      <td>[todayinmaker, wired, pivotal, year, war, clim...</td>\n",
       "      <td>todayinmaker wired pivotal year war</td>\n",
       "    </tr>\n",
       "    <tr>\n",
       "      <th>4</th>\n",
       "      <td>1</td>\n",
       "      <td>rt racist sexist climate change denying bigot ...</td>\n",
       "      <td>466954</td>\n",
       "      <td>Pro</td>\n",
       "      <td>122</td>\n",
       "      <td>[rt, racist, sexist, climate, change, denying,...</td>\n",
       "      <td>racist sexist denying bigot leading poll elect...</td>\n",
       "    </tr>\n",
       "  </tbody>\n",
       "</table>\n",
       "</div>"
      ],
      "text/plain": [
       "   sentiment                                            message  tweetid  \\\n",
       "0          1  polyscimajor epa chief think carbon dioxide ma...   625221   \n",
       "1          1    like lack evidence anthropogenic global warming   126103   \n",
       "2          2  rt researcher say three year act climate chang...   698562   \n",
       "3          1  todayinmaker wired pivotal year war climate ch...   573736   \n",
       "4          1  rt racist sexist climate change denying bigot ...   466954   \n",
       "\n",
       "  sentiment_label  message_length  \\\n",
       "0             Pro             140   \n",
       "1             Pro              62   \n",
       "2            News             140   \n",
       "3             Pro              99   \n",
       "4             Pro             122   \n",
       "\n",
       "                                          token_list  \\\n",
       "0  [polyscimajor, epa, chief, think, carbon, diox...   \n",
       "1  [like, lack, evidence, anthropogenic, global, ...   \n",
       "2  [rt, researcher, say, three, year, act, climat...   \n",
       "3  [todayinmaker, wired, pivotal, year, war, clim...   \n",
       "4  [rt, racist, sexist, climate, change, denying,...   \n",
       "\n",
       "                                     No_Common_Words  \n",
       "0  polyscimajor epa chief think carbon dioxide ma...  \n",
       "1                   like lack evidence anthropogenic  \n",
       "2                     researcher three year act late  \n",
       "3                todayinmaker wired pivotal year war  \n",
       "4  racist sexist denying bigot leading poll elect...  "
      ]
     },
     "execution_count": 42,
     "metadata": {},
     "output_type": "execute_result"
    }
   ],
   "source": [
    "df_train.head()"
   ]
  },
  {
   "cell_type": "code",
   "execution_count": 43,
   "id": "783a334a",
   "metadata": {},
   "outputs": [
    {
     "data": {
      "text/html": [
       "<div>\n",
       "<style scoped>\n",
       "    .dataframe tbody tr th:only-of-type {\n",
       "        vertical-align: middle;\n",
       "    }\n",
       "\n",
       "    .dataframe tbody tr th {\n",
       "        vertical-align: top;\n",
       "    }\n",
       "\n",
       "    .dataframe thead th {\n",
       "        text-align: right;\n",
       "    }\n",
       "</style>\n",
       "<table border=\"1\" class=\"dataframe\">\n",
       "  <thead>\n",
       "    <tr style=\"text-align: right;\">\n",
       "      <th></th>\n",
       "      <th>message</th>\n",
       "      <th>tweetid</th>\n",
       "      <th>message_length</th>\n",
       "      <th>token_list</th>\n",
       "      <th>No_Common_Words</th>\n",
       "    </tr>\n",
       "  </thead>\n",
       "  <tbody>\n",
       "    <tr>\n",
       "      <th>0</th>\n",
       "      <td>europe looking china make sure alone fighting ...</td>\n",
       "      <td>169760</td>\n",
       "      <td>121</td>\n",
       "      <td>[europe, looking, china, make, sure, alone, fi...</td>\n",
       "      <td>europe looking china make sure alone fighting</td>\n",
       "    </tr>\n",
       "    <tr>\n",
       "      <th>1</th>\n",
       "      <td>combine polling staffer climate change woman r...</td>\n",
       "      <td>35326</td>\n",
       "      <td>132</td>\n",
       "      <td>[combine, polling, staffer, climate, change, w...</td>\n",
       "      <td>combine polling staffer woman right fascist state</td>\n",
       "    </tr>\n",
       "    <tr>\n",
       "      <th>2</th>\n",
       "      <td>scary unimpeachable evidence climate change al...</td>\n",
       "      <td>224985</td>\n",
       "      <td>139</td>\n",
       "      <td>[scary, unimpeachable, evidence, climate, chan...</td>\n",
       "      <td>scary unimpeachable evidence already itstimeto...</td>\n",
       "    </tr>\n",
       "    <tr>\n",
       "      <th>3</th>\n",
       "      <td>putin got jill trump believe climate change th...</td>\n",
       "      <td>476263</td>\n",
       "      <td>136</td>\n",
       "      <td>[putin, got, jill, trump, believe, climate, ch...</td>\n",
       "      <td>putin got jill believe think hoax</td>\n",
       "    </tr>\n",
       "    <tr>\n",
       "      <th>4</th>\n",
       "      <td>rt female orgasm global warming sarcastic repu...</td>\n",
       "      <td>872928</td>\n",
       "      <td>79</td>\n",
       "      <td>[rt, female, orgasm, global, warming, sarcasti...</td>\n",
       "      <td>female orgasm sarcastic republican</td>\n",
       "    </tr>\n",
       "  </tbody>\n",
       "</table>\n",
       "</div>"
      ],
      "text/plain": [
       "                                             message  tweetid  message_length  \\\n",
       "0  europe looking china make sure alone fighting ...   169760             121   \n",
       "1  combine polling staffer climate change woman r...    35326             132   \n",
       "2  scary unimpeachable evidence climate change al...   224985             139   \n",
       "3  putin got jill trump believe climate change th...   476263             136   \n",
       "4  rt female orgasm global warming sarcastic repu...   872928              79   \n",
       "\n",
       "                                          token_list  \\\n",
       "0  [europe, looking, china, make, sure, alone, fi...   \n",
       "1  [combine, polling, staffer, climate, change, w...   \n",
       "2  [scary, unimpeachable, evidence, climate, chan...   \n",
       "3  [putin, got, jill, trump, believe, climate, ch...   \n",
       "4  [rt, female, orgasm, global, warming, sarcasti...   \n",
       "\n",
       "                                     No_Common_Words  \n",
       "0      europe looking china make sure alone fighting  \n",
       "1  combine polling staffer woman right fascist state  \n",
       "2  scary unimpeachable evidence already itstimeto...  \n",
       "3                  putin got jill believe think hoax  \n",
       "4                 female orgasm sarcastic republican  "
      ]
     },
     "execution_count": 43,
     "metadata": {},
     "output_type": "execute_result"
    }
   ],
   "source": [
    "df_test.head()"
   ]
  },
  {
   "cell_type": "markdown",
   "id": "923dc2c2",
   "metadata": {},
   "source": [
    "#### Splitting the Data"
   ]
  },
  {
   "cell_type": "code",
   "execution_count": 44,
   "id": "da9fe77a",
   "metadata": {},
   "outputs": [],
   "source": [
    "X = df_train['message']\n",
    "y = df_train['sentiment']\n",
    "\n",
    "X_train, X_test, y_train, y_test = train_test_split(X , y, test_size=0.2, random_state=42)"
   ]
  },
  {
   "cell_type": "markdown",
   "id": "db2568a4",
   "metadata": {},
   "source": [
    "Splitting the data is essential for the unbiased evaluation prediction performance where three subsets is considered to be sufficient (i.e. Training, Validation and Test sets). This step is done in order to prevent overfitting."
   ]
  },
  {
   "cell_type": "markdown",
   "id": "612b1c11",
   "metadata": {},
   "source": [
    "#### Vectorizer"
   ]
  },
  {
   "cell_type": "code",
   "execution_count": 45,
   "id": "15989c7b",
   "metadata": {},
   "outputs": [],
   "source": [
    "vectorizer = CountVectorizer().fit(X_train)\n",
    "\n",
    "X_train = vectorizer.transform(X_train)\n",
    "X_test = vectorizer.transform(X_test)"
   ]
  },
  {
   "cell_type": "markdown",
   "id": "43b2d523",
   "metadata": {},
   "source": [
    "<a id=\"five\"></a>\n",
    "## 5. Modelling\n",
    "<a class=\"anchor\" id=\"1.1\"></a>\n",
    "<a href=#cont>Back to Table of Contents</a>\n",
    "\n",
    "---\n",
    "    \n",
    "| ⚡ Description: Modelling ⚡ |\n",
    "| :--------------------------- |\n",
    "| In this section, you are required to create one or more regression models that are able to accurately predict the thee hour load shortfall. |\n",
    "\n",
    "---"
   ]
  },
  {
   "cell_type": "markdown",
   "id": "1cac7451",
   "metadata": {},
   "source": [
    "#### Logistic Regression"
   ]
  },
  {
   "cell_type": "code",
   "execution_count": 46,
   "id": "a79c9f02",
   "metadata": {},
   "outputs": [
    {
     "data": {
      "text/html": [
       "<style>#sk-container-id-1 {color: black;background-color: white;}#sk-container-id-1 pre{padding: 0;}#sk-container-id-1 div.sk-toggleable {background-color: white;}#sk-container-id-1 label.sk-toggleable__label {cursor: pointer;display: block;width: 100%;margin-bottom: 0;padding: 0.3em;box-sizing: border-box;text-align: center;}#sk-container-id-1 label.sk-toggleable__label-arrow:before {content: \"▸\";float: left;margin-right: 0.25em;color: #696969;}#sk-container-id-1 label.sk-toggleable__label-arrow:hover:before {color: black;}#sk-container-id-1 div.sk-estimator:hover label.sk-toggleable__label-arrow:before {color: black;}#sk-container-id-1 div.sk-toggleable__content {max-height: 0;max-width: 0;overflow: hidden;text-align: left;background-color: #f0f8ff;}#sk-container-id-1 div.sk-toggleable__content pre {margin: 0.2em;color: black;border-radius: 0.25em;background-color: #f0f8ff;}#sk-container-id-1 input.sk-toggleable__control:checked~div.sk-toggleable__content {max-height: 200px;max-width: 100%;overflow: auto;}#sk-container-id-1 input.sk-toggleable__control:checked~label.sk-toggleable__label-arrow:before {content: \"▾\";}#sk-container-id-1 div.sk-estimator input.sk-toggleable__control:checked~label.sk-toggleable__label {background-color: #d4ebff;}#sk-container-id-1 div.sk-label input.sk-toggleable__control:checked~label.sk-toggleable__label {background-color: #d4ebff;}#sk-container-id-1 input.sk-hidden--visually {border: 0;clip: rect(1px 1px 1px 1px);clip: rect(1px, 1px, 1px, 1px);height: 1px;margin: -1px;overflow: hidden;padding: 0;position: absolute;width: 1px;}#sk-container-id-1 div.sk-estimator {font-family: monospace;background-color: #f0f8ff;border: 1px dotted black;border-radius: 0.25em;box-sizing: border-box;margin-bottom: 0.5em;}#sk-container-id-1 div.sk-estimator:hover {background-color: #d4ebff;}#sk-container-id-1 div.sk-parallel-item::after {content: \"\";width: 100%;border-bottom: 1px solid gray;flex-grow: 1;}#sk-container-id-1 div.sk-label:hover label.sk-toggleable__label {background-color: #d4ebff;}#sk-container-id-1 div.sk-serial::before {content: \"\";position: absolute;border-left: 1px solid gray;box-sizing: border-box;top: 0;bottom: 0;left: 50%;z-index: 0;}#sk-container-id-1 div.sk-serial {display: flex;flex-direction: column;align-items: center;background-color: white;padding-right: 0.2em;padding-left: 0.2em;position: relative;}#sk-container-id-1 div.sk-item {position: relative;z-index: 1;}#sk-container-id-1 div.sk-parallel {display: flex;align-items: stretch;justify-content: center;background-color: white;position: relative;}#sk-container-id-1 div.sk-item::before, #sk-container-id-1 div.sk-parallel-item::before {content: \"\";position: absolute;border-left: 1px solid gray;box-sizing: border-box;top: 0;bottom: 0;left: 50%;z-index: -1;}#sk-container-id-1 div.sk-parallel-item {display: flex;flex-direction: column;z-index: 1;position: relative;background-color: white;}#sk-container-id-1 div.sk-parallel-item:first-child::after {align-self: flex-end;width: 50%;}#sk-container-id-1 div.sk-parallel-item:last-child::after {align-self: flex-start;width: 50%;}#sk-container-id-1 div.sk-parallel-item:only-child::after {width: 0;}#sk-container-id-1 div.sk-dashed-wrapped {border: 1px dashed gray;margin: 0 0.4em 0.5em 0.4em;box-sizing: border-box;padding-bottom: 0.4em;background-color: white;}#sk-container-id-1 div.sk-label label {font-family: monospace;font-weight: bold;display: inline-block;line-height: 1.2em;}#sk-container-id-1 div.sk-label-container {text-align: center;}#sk-container-id-1 div.sk-container {/* jupyter's `normalize.less` sets `[hidden] { display: none; }` but bootstrap.min.css set `[hidden] { display: none !important; }` so we also need the `!important` here to be able to override the default hidden behavior on the sphinx rendered scikit-learn.org. See: https://github.com/scikit-learn/scikit-learn/issues/21755 */display: inline-block !important;position: relative;}#sk-container-id-1 div.sk-text-repr-fallback {display: none;}</style><div id=\"sk-container-id-1\" class=\"sk-top-container\"><div class=\"sk-text-repr-fallback\"><pre>LogisticRegression(max_iter=1000)</pre><b>In a Jupyter environment, please rerun this cell to show the HTML representation or trust the notebook. <br />On GitHub, the HTML representation is unable to render, please try loading this page with nbviewer.org.</b></div><div class=\"sk-container\" hidden><div class=\"sk-item\"><div class=\"sk-estimator sk-toggleable\"><input class=\"sk-toggleable__control sk-hidden--visually\" id=\"sk-estimator-id-1\" type=\"checkbox\" checked><label for=\"sk-estimator-id-1\" class=\"sk-toggleable__label sk-toggleable__label-arrow\">LogisticRegression</label><div class=\"sk-toggleable__content\"><pre>LogisticRegression(max_iter=1000)</pre></div></div></div></div></div>"
      ],
      "text/plain": [
       "LogisticRegression(max_iter=1000)"
      ]
     },
     "execution_count": 46,
     "metadata": {},
     "output_type": "execute_result"
    }
   ],
   "source": [
    "LR = LogisticRegression(max_iter = 1000)\n",
    "LR.fit(X_train, y_train)"
   ]
  },
  {
   "cell_type": "markdown",
   "id": "6b530251",
   "metadata": {},
   "source": [
    "<a id=\"six\"></a>\n",
    "## 6. Model Performance\n",
    "<a class=\"anchor\" id=\"1.1\"></a>\n",
    "<a href=#cont>Back to Table of Contents</a>\n",
    "\n",
    "---\n",
    "    \n",
    "| ⚡ Description: Model performance ⚡ |\n",
    "| :--------------------------- |\n",
    "| In this section you are required to compare the relative performance of the various trained ML models on a holdout dataset and comment on what model is the best and why. |\n",
    "\n",
    "---"
   ]
  },
  {
   "cell_type": "markdown",
   "id": "c43ad28f",
   "metadata": {},
   "source": [
    "#### Validation Test Prediction and Classification Report"
   ]
  },
  {
   "cell_type": "markdown",
   "id": "de3238c2",
   "metadata": {},
   "source": [
    "****Logistic Regression Report****"
   ]
  },
  {
   "cell_type": "code",
   "execution_count": 47,
   "id": "245b971c",
   "metadata": {},
   "outputs": [
    {
     "name": "stdout",
     "output_type": "stream",
     "text": [
      "              precision    recall  f1-score   support\n",
      "\n",
      "          -1       0.57      0.37      0.45       242\n",
      "           0       0.51      0.39      0.44       443\n",
      "           1       0.73      0.81      0.77      1451\n",
      "           2       0.76      0.79      0.77       710\n",
      "\n",
      "    accuracy                           0.70      2846\n",
      "   macro avg       0.64      0.59      0.61      2846\n",
      "weighted avg       0.69      0.70      0.69      2846\n",
      "\n"
     ]
    }
   ],
   "source": [
    "y_pred_LR = LR.predict(X_test)\n",
    "\n",
    "print(classification_report(y_test, y_pred_LR))"
   ]
  },
  {
   "cell_type": "markdown",
   "id": "8b7537e3",
   "metadata": {},
   "source": [
    "#### Report Summary:\n",
    "\n",
    "A Classification report is used to measure the quality of predictions from a classification algorithm. How many predictions are True and how many are False.\n",
    "\n",
    "**Precision:** Precision is the ability of a classifier not to label an instance positive that is actually negative. It is defined as the ratio of true positives to the sum of true and false positives.\n",
    "\n",
    "**Recall (Sensitivity or True Positive Rate):** Recall is the ability of a classifier to find all positive instances. It is defined as the ratio of true positives to the sum of true positives and false negatives.\n",
    "\n",
    "**F1-score:** The F1 score is a weighted harmonic mean of precision and recall such that the best score is 1.0 and the worst is 0.0. F1 scores are lower than accuracy measures as they embed precision and recall into their computation. The weighted average of F1 should be used to compare classifier models, not global accuracy.\n",
    "\n",
    "**Support:** Support represents the number of instances in each class.\n",
    "\n",
    "**Accuracy:** Accuracy measures how accurate the predictions were for the model, calculated as the ratio of correct predictions against the total number of instances.\n",
    "\n",
    "**Macro Average:** Macro average calculates the average performance across all classes, treating each class equally.\n",
    "\n",
    "**Weighted Average:** Weighted average calculates the average performance across all classes, weighted by the number of instances in each class."
   ]
  },
  {
   "cell_type": "markdown",
   "id": "a8ad0c0d",
   "metadata": {},
   "source": [
    "<a id=\"seven\"></a>\n",
    "## 7. Model Explanations\n",
    "<a class=\"anchor\" id=\"1.1\"></a>\n",
    "<a href=#cont>Back to Table of Contents</a>\n",
    "\n",
    "---\n",
    "    \n",
    "| ⚡ Description: Model explanation ⚡ |\n",
    "| :--------------------------- |\n",
    "| In this section, you are required to discuss how the best performing model works in a simple way so that both technical and non-technical stakeholders can grasp the intuition behind the model's inner workings. |\n",
    "\n",
    "---"
   ]
  },
  {
   "cell_type": "code",
   "execution_count": 48,
   "id": "5ff741c2",
   "metadata": {},
   "outputs": [],
   "source": [
    "# discuss chosen methods logic"
   ]
  },
  {
   "cell_type": "markdown",
   "id": "26191908",
   "metadata": {},
   "source": [
    "<a id=\"eight\"></a>\n",
    "## 8. Unseen Data Predictions\n",
    "<a class=\"anchor\" id=\"1.1\"></a>\n",
    "<a href=#cont>Back to Table of Contents</a>\n",
    "\n",
    "---\n",
    "    \n",
    "| ⚡ Description: Model explanation ⚡ |\n",
    "| :--------------------------- |\n",
    "| In this section, you are required to discuss how the best performing model works in a simple way so that both technical and non-technical stakeholders can grasp the intuition behind the model's inner workings. |\n",
    "\n",
    "---"
   ]
  },
  {
   "cell_type": "code",
   "execution_count": 49,
   "id": "258669c1",
   "metadata": {},
   "outputs": [],
   "source": [
    "X_unseen = df_test['message']\n",
    "\n",
    "X_unseen_vectorized = vectorizer.transform(X_unseen)\n",
    "\n",
    "predictions = LR.predict(X_unseen_vectorized)"
   ]
  },
  {
   "cell_type": "code",
   "execution_count": 50,
   "id": "d4eb2e43",
   "metadata": {},
   "outputs": [
    {
     "data": {
      "text/html": [
       "<div>\n",
       "<style scoped>\n",
       "    .dataframe tbody tr th:only-of-type {\n",
       "        vertical-align: middle;\n",
       "    }\n",
       "\n",
       "    .dataframe tbody tr th {\n",
       "        vertical-align: top;\n",
       "    }\n",
       "\n",
       "    .dataframe thead th {\n",
       "        text-align: right;\n",
       "    }\n",
       "</style>\n",
       "<table border=\"1\" class=\"dataframe\">\n",
       "  <thead>\n",
       "    <tr style=\"text-align: right;\">\n",
       "      <th></th>\n",
       "      <th>sentiment</th>\n",
       "    </tr>\n",
       "  </thead>\n",
       "  <tbody>\n",
       "    <tr>\n",
       "      <th>0</th>\n",
       "      <td>1</td>\n",
       "    </tr>\n",
       "    <tr>\n",
       "      <th>1</th>\n",
       "      <td>1</td>\n",
       "    </tr>\n",
       "    <tr>\n",
       "      <th>2</th>\n",
       "      <td>1</td>\n",
       "    </tr>\n",
       "    <tr>\n",
       "      <th>3</th>\n",
       "      <td>1</td>\n",
       "    </tr>\n",
       "    <tr>\n",
       "      <th>4</th>\n",
       "      <td>1</td>\n",
       "    </tr>\n",
       "  </tbody>\n",
       "</table>\n",
       "</div>"
      ],
      "text/plain": [
       "   sentiment\n",
       "0          1\n",
       "1          1\n",
       "2          1\n",
       "3          1\n",
       "4          1"
      ]
     },
     "execution_count": 50,
     "metadata": {},
     "output_type": "execute_result"
    }
   ],
   "source": [
    "daf = pd.DataFrame(predictions, columns=['sentiment'])\n",
    "\n",
    "daf.head()"
   ]
  },
  {
   "cell_type": "code",
   "execution_count": 51,
   "id": "00e969c8",
   "metadata": {},
   "outputs": [
    {
     "data": {
      "text/html": [
       "<div>\n",
       "<style scoped>\n",
       "    .dataframe tbody tr th:only-of-type {\n",
       "        vertical-align: middle;\n",
       "    }\n",
       "\n",
       "    .dataframe tbody tr th {\n",
       "        vertical-align: top;\n",
       "    }\n",
       "\n",
       "    .dataframe thead th {\n",
       "        text-align: right;\n",
       "    }\n",
       "</style>\n",
       "<table border=\"1\" class=\"dataframe\">\n",
       "  <thead>\n",
       "    <tr style=\"text-align: right;\">\n",
       "      <th></th>\n",
       "      <th>tweetid</th>\n",
       "      <th>sentiment</th>\n",
       "    </tr>\n",
       "  </thead>\n",
       "  <tbody>\n",
       "    <tr>\n",
       "      <th>0</th>\n",
       "      <td>169760</td>\n",
       "      <td>1</td>\n",
       "    </tr>\n",
       "    <tr>\n",
       "      <th>1</th>\n",
       "      <td>35326</td>\n",
       "      <td>1</td>\n",
       "    </tr>\n",
       "    <tr>\n",
       "      <th>2</th>\n",
       "      <td>224985</td>\n",
       "      <td>1</td>\n",
       "    </tr>\n",
       "    <tr>\n",
       "      <th>3</th>\n",
       "      <td>476263</td>\n",
       "      <td>1</td>\n",
       "    </tr>\n",
       "    <tr>\n",
       "      <th>4</th>\n",
       "      <td>872928</td>\n",
       "      <td>1</td>\n",
       "    </tr>\n",
       "  </tbody>\n",
       "</table>\n",
       "</div>"
      ],
      "text/plain": [
       "   tweetid  sentiment\n",
       "0   169760          1\n",
       "1    35326          1\n",
       "2   224985          1\n",
       "3   476263          1\n",
       "4   872928          1"
      ]
     },
     "execution_count": 51,
     "metadata": {},
     "output_type": "execute_result"
    }
   ],
   "source": [
    "output = pd.DataFrame({'tweetid':DF_test['tweetid']})\n",
    "\n",
    "prediction = output.join(daf)\n",
    "\n",
    "prediction.head()"
   ]
  },
  {
   "cell_type": "code",
   "execution_count": 52,
   "id": "621670e3",
   "metadata": {},
   "outputs": [],
   "source": [
    "model_save_path = \"LR.pkl\"\n",
    "with open(model_save_path,'wb') as file:\n",
    "    pickle.dump(LR,file)"
   ]
  },
  {
   "cell_type": "code",
   "execution_count": 53,
   "id": "5072f113",
   "metadata": {},
   "outputs": [],
   "source": [
    "model_load_path = \"LR.pkl\"\n",
    "with open(model_load_path,'rb') as file:\n",
    "    unpickled_model = pickle.load(file)"
   ]
  },
  {
   "cell_type": "code",
   "execution_count": 54,
   "id": "199cc3f3",
   "metadata": {},
   "outputs": [],
   "source": [
    "preds = unpickled_model.predict(X_unseen_vectorized)"
   ]
  },
  {
   "cell_type": "code",
   "execution_count": 55,
   "id": "52e3ce90",
   "metadata": {},
   "outputs": [
    {
     "data": {
      "text/plain": [
       "array([1, 1, 1, ..., 1, 0, 1], dtype=int64)"
      ]
     },
     "execution_count": 55,
     "metadata": {},
     "output_type": "execute_result"
    }
   ],
   "source": [
    "preds"
   ]
  }
 ],
 "metadata": {
  "kernelspec": {
   "display_name": "Python 3 (ipykernel)",
   "language": "python",
   "name": "python3"
  },
  "language_info": {
   "codemirror_mode": {
    "name": "ipython",
    "version": 3
   },
   "file_extension": ".py",
   "mimetype": "text/x-python",
   "name": "python",
   "nbconvert_exporter": "python",
   "pygments_lexer": "ipython3",
   "version": "3.10.9"
  },
  "latex_envs": {
   "LaTeX_envs_menu_present": true,
   "autoclose": false,
   "autocomplete": true,
   "bibliofile": "biblio.bib",
   "cite_by": "apalike",
   "current_citInitial": 1,
   "eqLabelWithNumbers": true,
   "eqNumInitial": 1,
   "hotkeys": {
    "equation": "Ctrl-E",
    "itemize": "Ctrl-I"
   },
   "labels_anchors": false,
   "latex_user_defs": false,
   "report_style_numbering": false,
   "user_envs_cfg": false
  },
  "toc": {
   "base_numbering": 1,
   "nav_menu": {},
   "number_sections": true,
   "sideBar": true,
   "skip_h1_title": false,
   "title_cell": "Table of Contents",
   "title_sidebar": "Contents",
   "toc_cell": false,
   "toc_position": {},
   "toc_section_display": true,
   "toc_window_display": false
  },
  "varInspector": {
   "cols": {
    "lenName": 16,
    "lenType": 16,
    "lenVar": 40
   },
   "kernels_config": {
    "python": {
     "delete_cmd_postfix": "",
     "delete_cmd_prefix": "del ",
     "library": "var_list.py",
     "varRefreshCmd": "print(var_dic_list())"
    },
    "r": {
     "delete_cmd_postfix": ") ",
     "delete_cmd_prefix": "rm(",
     "library": "var_list.r",
     "varRefreshCmd": "cat(var_dic_list()) "
    }
   },
   "types_to_exclude": [
    "module",
    "function",
    "builtin_function_or_method",
    "instance",
    "_Feature"
   ],
   "window_display": false
  }
 },
 "nbformat": 4,
 "nbformat_minor": 5
}
